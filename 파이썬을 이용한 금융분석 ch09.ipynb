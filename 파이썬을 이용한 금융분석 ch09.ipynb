{
 "cells": [
  {
   "cell_type": "markdown",
   "id": "7529f56b",
   "metadata": {},
   "source": [
    "# 파이썬을 이용한 행렬 표현\n"
   ]
  },
  {
   "cell_type": "markdown",
   "id": "ed8a3313",
   "metadata": {},
   "source": [
    "## 파이썬에서 행렬은 리스트나 튜플 형식으로 만들어 numpy.array 명령어를 사용하여 만들 수도 있고, numpy에서 제공하는 다양한 배열(array) 명령어를 이용하여 직접 만들 수도 있다."
   ]
  },
  {
   "cell_type": "code",
   "execution_count": 1,
   "id": "74e7ca25",
   "metadata": {},
   "outputs": [],
   "source": [
    "import pandas as pd\n",
    "import numpy as np"
   ]
  },
  {
   "cell_type": "code",
   "execution_count": 2,
   "id": "8f225550",
   "metadata": {},
   "outputs": [
    {
     "data": {
      "text/plain": [
       "array([[1, 1],\n",
       "       [2, 2],\n",
       "       [3, 3]])"
      ]
     },
     "execution_count": 2,
     "metadata": {},
     "output_type": "execute_result"
    }
   ],
   "source": [
    "A = ((1,1),(2,2),(3,3)) # tuple 형식으로 입력, list 형식도 가능하다\n",
    "A = np.array(A)\n",
    "A"
   ]
  },
  {
   "cell_type": "code",
   "execution_count": 3,
   "id": "3841afad",
   "metadata": {},
   "outputs": [
    {
     "data": {
      "text/plain": [
       "(3, 2)"
      ]
     },
     "execution_count": 3,
     "metadata": {},
     "output_type": "execute_result"
    }
   ],
   "source": [
    "A.shape"
   ]
  },
  {
   "cell_type": "code",
   "execution_count": 4,
   "id": "7f5c5293",
   "metadata": {},
   "outputs": [
    {
     "data": {
      "text/plain": [
       "3"
      ]
     },
     "execution_count": 4,
     "metadata": {},
     "output_type": "execute_result"
    }
   ],
   "source": [
    "A.shape[0]"
   ]
  },
  {
   "cell_type": "code",
   "execution_count": 5,
   "id": "f965da0b",
   "metadata": {},
   "outputs": [
    {
     "data": {
      "text/plain": [
       "array([[1., 1.],\n",
       "       [1., 1.],\n",
       "       [1., 1.]])"
      ]
     },
     "execution_count": 5,
     "metadata": {},
     "output_type": "execute_result"
    }
   ],
   "source": [
    "B = np.ones((3,2))\n",
    "B"
   ]
  },
  {
   "cell_type": "code",
   "execution_count": 6,
   "id": "6761c813",
   "metadata": {},
   "outputs": [
    {
     "data": {
      "text/plain": [
       "array([[2., 2.],\n",
       "       [3., 3.],\n",
       "       [4., 4.]])"
      ]
     },
     "execution_count": 6,
     "metadata": {},
     "output_type": "execute_result"
    }
   ],
   "source": [
    "A+B"
   ]
  },
  {
   "cell_type": "code",
   "execution_count": 7,
   "id": "97dfb51f",
   "metadata": {},
   "outputs": [
    {
     "data": {
      "text/plain": [
       "array([[0., 0.],\n",
       "       [1., 1.],\n",
       "       [2., 2.]])"
      ]
     },
     "execution_count": 7,
     "metadata": {},
     "output_type": "execute_result"
    }
   ],
   "source": [
    "A-B"
   ]
  },
  {
   "cell_type": "code",
   "execution_count": 8,
   "id": "b5b2a1d4",
   "metadata": {},
   "outputs": [
    {
     "data": {
      "text/plain": [
       "array([[1., 1.],\n",
       "       [2., 2.],\n",
       "       [3., 3.]])"
      ]
     },
     "execution_count": 8,
     "metadata": {},
     "output_type": "execute_result"
    }
   ],
   "source": [
    "A * B"
   ]
  },
  {
   "cell_type": "code",
   "execution_count": 9,
   "id": "fca6011a",
   "metadata": {},
   "outputs": [
    {
     "data": {
      "text/plain": [
       "array([[1, 2, 3],\n",
       "       [4, 5, 6]])"
      ]
     },
     "execution_count": 9,
     "metadata": {},
     "output_type": "execute_result"
    }
   ],
   "source": [
    "A = np.arange(1,7).reshape(2,3)\n",
    "A"
   ]
  },
  {
   "cell_type": "code",
   "execution_count": 10,
   "id": "9bf174d5",
   "metadata": {},
   "outputs": [
    {
     "data": {
      "text/plain": [
       "array([[1, 2],\n",
       "       [3, 4],\n",
       "       [5, 6]])"
      ]
     },
     "execution_count": 10,
     "metadata": {},
     "output_type": "execute_result"
    }
   ],
   "source": [
    "B = np.arange(1,7).reshape(3,2)\n",
    "B"
   ]
  },
  {
   "cell_type": "code",
   "execution_count": 11,
   "id": "6aa76286",
   "metadata": {},
   "outputs": [],
   "source": [
    "# 파이썬에서 행렬의 곱을 게산하기 위해서는 numpy.matmul()과 @를 사용할 수 있다."
   ]
  },
  {
   "cell_type": "code",
   "execution_count": 12,
   "id": "e288591d",
   "metadata": {},
   "outputs": [
    {
     "data": {
      "text/plain": [
       "array([[22, 28],\n",
       "       [49, 64]])"
      ]
     },
     "execution_count": 12,
     "metadata": {},
     "output_type": "execute_result"
    }
   ],
   "source": [
    "np.matmul(A,B)"
   ]
  },
  {
   "cell_type": "code",
   "execution_count": 13,
   "id": "a1936d09",
   "metadata": {},
   "outputs": [
    {
     "data": {
      "text/plain": [
       "array([[22, 28],\n",
       "       [49, 64]])"
      ]
     },
     "execution_count": 13,
     "metadata": {},
     "output_type": "execute_result"
    }
   ],
   "source": [
    "A@B"
   ]
  },
  {
   "cell_type": "code",
   "execution_count": 14,
   "id": "3ac86e40",
   "metadata": {},
   "outputs": [],
   "source": [
    "# 전치행렬은  행렬의 행과 열의 위치를 대각선을 기준으로 바꾼다."
   ]
  },
  {
   "cell_type": "code",
   "execution_count": 15,
   "id": "8a87f1fa",
   "metadata": {},
   "outputs": [
    {
     "data": {
      "text/plain": [
       "array([[1, 2, 3],\n",
       "       [4, 5, 6]])"
      ]
     },
     "execution_count": 15,
     "metadata": {},
     "output_type": "execute_result"
    }
   ],
   "source": [
    "A"
   ]
  },
  {
   "cell_type": "code",
   "execution_count": 16,
   "id": "ed9473b9",
   "metadata": {},
   "outputs": [
    {
     "data": {
      "text/plain": [
       "array([[1, 4],\n",
       "       [2, 5],\n",
       "       [3, 6]])"
      ]
     },
     "execution_count": 16,
     "metadata": {},
     "output_type": "execute_result"
    }
   ],
   "source": [
    "A.T # transpose"
   ]
  },
  {
   "cell_type": "code",
   "execution_count": 17,
   "id": "7084f3be",
   "metadata": {},
   "outputs": [],
   "source": [
    "# 역행렬의 역행렬은 본래 행렬이다."
   ]
  },
  {
   "cell_type": "code",
   "execution_count": 26,
   "id": "dbb5d9c4",
   "metadata": {},
   "outputs": [
    {
     "data": {
      "text/plain": [
       "array([[1, 2],\n",
       "       [3, 4]])"
      ]
     },
     "execution_count": 26,
     "metadata": {},
     "output_type": "execute_result"
    }
   ],
   "source": [
    "A = np.array([[1,2],[3,4]])\n",
    "A\n"
   ]
  },
  {
   "cell_type": "code",
   "execution_count": 19,
   "id": "8942504c",
   "metadata": {},
   "outputs": [
    {
     "data": {
      "text/plain": [
       "array([[-2. ,  1. ],\n",
       "       [ 1.5, -0.5]])"
      ]
     },
     "execution_count": 19,
     "metadata": {},
     "output_type": "execute_result"
    }
   ],
   "source": [
    "A_inverse = np.linalg.inv(A) # 역행렬\n",
    "A_inverse"
   ]
  },
  {
   "cell_type": "code",
   "execution_count": 21,
   "id": "9c0246fb",
   "metadata": {},
   "outputs": [
    {
     "data": {
      "text/plain": [
       "array([[1., 2.],\n",
       "       [3., 4.]])"
      ]
     },
     "execution_count": 21,
     "metadata": {},
     "output_type": "execute_result"
    }
   ],
   "source": [
    "np.linalg.inv(A_inverse)"
   ]
  },
  {
   "cell_type": "code",
   "execution_count": 27,
   "id": "89a84d86",
   "metadata": {},
   "outputs": [
    {
     "data": {
      "text/plain": [
       "array([[ 5.5 , -2.5 ],\n",
       "       [-3.75,  1.75]])"
      ]
     },
     "execution_count": 27,
     "metadata": {},
     "output_type": "execute_result"
    }
   ],
   "source": [
    "import numpy.linalg as la\n",
    "A = np.arange(1,5).reshape(2,2)\n",
    "B = np.arange(1,5).reshape(2,2)\n",
    "np.round(la.inv(A@B),2)    # A,B 곱의 역행렬"
   ]
  },
  {
   "cell_type": "code",
   "execution_count": 61,
   "id": "7673a0da",
   "metadata": {},
   "outputs": [],
   "source": [
    "import numpy as np\n",
    "import pandas as pd\n",
    "import statsmodels.api as sm\n",
    "from statsmodels.formula.api import ols"
   ]
  },
  {
   "cell_type": "code",
   "execution_count": 62,
   "id": "c1cbff48",
   "metadata": {},
   "outputs": [],
   "source": [
    "def edu(x):\n",
    "    if x == 2:\n",
    "        return 6\n",
    "    elif x == 3:\n",
    "        return 9\n",
    "    elif x == 4:\n",
    "        return 12\n",
    "    elif x == 5:\n",
    "        return 14\n",
    "    elif x == 6:\n",
    "        return 16\n",
    "    elif x == 7:\n",
    "        return 18\n",
    "    elif x == 8:\n",
    "        return 21\n",
    "    else:\n",
    "        return 0\n",
    "    "
   ]
  },
  {
   "cell_type": "markdown",
   "id": "a7c87e32",
   "metadata": {},
   "source": [
    "## 통계 패키지를 이용한 회귀분석"
   ]
  },
  {
   "cell_type": "code",
   "execution_count": 63,
   "id": "fbb3a12a",
   "metadata": {},
   "outputs": [],
   "source": [
    "df = pd.read_csv('household_2020a.csv')\n",
    "df['education_year'] = df['education'].apply(edu)"
   ]
  },
  {
   "cell_type": "code",
   "execution_count": 64,
   "id": "31cd8bcb",
   "metadata": {},
   "outputs": [],
   "source": [
    "df1 = df[['income','education_year']]"
   ]
  },
  {
   "cell_type": "code",
   "execution_count": 41,
   "id": "fc12ccf7",
   "metadata": {},
   "outputs": [
    {
     "name": "stdout",
     "output_type": "stream",
     "text": [
      "                            OLS Regression Results                            \n",
      "==============================================================================\n",
      "Dep. Variable:                 income   R-squared:                       0.152\n",
      "Model:                            OLS   Adj. R-squared:                  0.152\n",
      "Method:                 Least Squares   F-statistic:                     3247.\n",
      "Date:                Mon, 08 May 2023   Prob (F-statistic):               0.00\n",
      "Time:                        11:37:16   Log-Likelihood:            -1.7489e+05\n",
      "No. Observations:               18064   AIC:                         3.498e+05\n",
      "Df Residuals:                   18062   BIC:                         3.498e+05\n",
      "Df Model:                           1                                         \n",
      "Covariance Type:            nonrobust                                         \n",
      "==================================================================================\n",
      "                     coef    std err          t      P>|t|      [0.025      0.975]\n",
      "----------------------------------------------------------------------------------\n",
      "Intercept        133.0011     81.599      1.630      0.103     -26.940     292.942\n",
      "education_year   370.3640      6.500     56.981      0.000     357.624     383.104\n",
      "==============================================================================\n",
      "Omnibus:                    26735.077   Durbin-Watson:                   1.933\n",
      "Prob(Omnibus):                  0.000   Jarque-Bera (JB):         54869162.398\n",
      "Skew:                           8.393   Prob(JB):                         0.00\n",
      "Kurtosis:                     272.477   Cond. No.                         35.7\n",
      "==============================================================================\n",
      "\n",
      "Notes:\n",
      "[1] Standard Errors assume that the covariance matrix of the errors is correctly specified.\n"
     ]
    }
   ],
   "source": [
    "edu_model = ols(\"income ~ education_year\",data = df1).fit() # 독립변수 x는 교육연수이고 종속변수 y는 소득입니다.\n",
    "print(edu_model.summary())"
   ]
  },
  {
   "cell_type": "code",
   "execution_count": 42,
   "id": "60732ab0",
   "metadata": {},
   "outputs": [],
   "source": [
    "# 행렬을 이용하여 절편과 기울기, t값,p값,95% 유의수준에서 신뢰구간, 결정계수(R)를 구해보도록 하자.\n"
   ]
  },
  {
   "cell_type": "code",
   "execution_count": 45,
   "id": "470f7ec0",
   "metadata": {},
   "outputs": [
    {
     "data": {
      "text/plain": [
       "array([[ 1., 16.],\n",
       "       [ 1., 21.],\n",
       "       [ 1.,  6.],\n",
       "       ...,\n",
       "       [ 1., 16.],\n",
       "       [ 1., 18.],\n",
       "       [ 1., 16.]])"
      ]
     },
     "execution_count": 45,
     "metadata": {},
     "output_type": "execute_result"
    }
   ],
   "source": [
    "edu = df1[['education_year']]\n",
    "X = edu.values # X : 교육연수\n",
    "ones = np.ones(X.shape[0])\n",
    "X_mat = np.column_stack((ones,X))\n",
    "X_mat"
   ]
  },
  {
   "cell_type": "code",
   "execution_count": 46,
   "id": "16bd58b5",
   "metadata": {},
   "outputs": [
    {
     "data": {
      "text/plain": [
       "array([133.0011, 370.364 ])"
      ]
     },
     "execution_count": 46,
     "metadata": {},
     "output_type": "execute_result"
    }
   ],
   "source": [
    "Y = df1['income'].values # Y : 소득\n",
    "beta_hat = np.linalg.inv(X_mat.T.dot(X_mat)).dot(X_mat.T).dot(Y) # 243page  회귀계수 추정\n",
    "beta_hat.round(4)"
   ]
  },
  {
   "cell_type": "markdown",
   "id": "1a159947",
   "metadata": {},
   "source": [
    "## 회귀계수 추정량에 대한 유의성 검정을 위해서는 회귀계수 추정량에 대한 표준오차를 구해야 한다"
   ]
  },
  {
   "cell_type": "code",
   "execution_count": 47,
   "id": "3f6b3104",
   "metadata": {},
   "outputs": [
    {
     "data": {
      "text/plain": [
       "15022435.44"
      ]
     },
     "execution_count": 47,
     "metadata": {},
     "output_type": "execute_result"
    }
   ],
   "source": [
    "Y_fitted = X_mat @ beta_hat  # Y 추정량\n",
    "e = Y-Y_fitted   # 잔차\n",
    "n = len(e)\n",
    "k = beta_hat.shape[0]  # 설명변수 개수\n",
    "sigma_hat2 = (e.T @ e) / (n-k) # 오차항의 분산에 대한 추정량\n",
    "sigma_hat2.round(2)"
   ]
  },
  {
   "cell_type": "code",
   "execution_count": 48,
   "id": "444d27dd",
   "metadata": {},
   "outputs": [
    {
     "data": {
      "text/plain": [
       "array([[6658.34653088, -496.14850569],\n",
       "       [-496.14850569,   42.24729948]])"
      ]
     },
     "execution_count": 48,
     "metadata": {},
     "output_type": "execute_result"
    }
   ],
   "source": [
    "XtX_Inv = np.linalg.inv(X_mat.T@X_mat)\n",
    "cov = sigma_hat2 * XtX_Inv\n",
    "cov"
   ]
  },
  {
   "cell_type": "code",
   "execution_count": 50,
   "id": "f3565321",
   "metadata": {},
   "outputs": [
    {
     "name": "stderr",
     "output_type": "stream",
     "text": [
      "C:\\Users\\gksal\\AppData\\Local\\Temp/ipykernel_15944/342131091.py:1: RuntimeWarning: invalid value encountered in sqrt\n",
      "  se = np.sqrt(cov)\n"
     ]
    },
    {
     "data": {
      "text/plain": [
       "array([[81.59869197,         nan],\n",
       "       [        nan,  6.49979226]])"
      ]
     },
     "execution_count": 50,
     "metadata": {},
     "output_type": "execute_result"
    }
   ],
   "source": [
    "se = np.sqrt(cov)\n",
    "se"
   ]
  },
  {
   "cell_type": "markdown",
   "id": "30b28e4b",
   "metadata": {},
   "source": [
    "## 회귀계수 추정량에 대한 표준오차를 이용하여 회귀계수 값의 신뢰구간과 t값을 구한다."
   ]
  },
  {
   "cell_type": "code",
   "execution_count": 51,
   "id": "7184e99a",
   "metadata": {},
   "outputs": [
    {
     "data": {
      "text/plain": [
       "array([81.59869197,  6.49979226])"
      ]
     },
     "execution_count": 51,
     "metadata": {},
     "output_type": "execute_result"
    }
   ],
   "source": [
    "se1 = np.zeros(k)\n",
    "se1[0,] = se[0,0]\n",
    "se1[1,] = se[1,1]\n",
    "se1"
   ]
  },
  {
   "cell_type": "code",
   "execution_count": 53,
   "id": "c41721fb",
   "metadata": {},
   "outputs": [
    {
     "data": {
      "text/plain": [
       "array([[-30.2 , 296.2 ],\n",
       "       [357.36, 383.36]])"
      ]
     },
     "execution_count": 53,
     "metadata": {},
     "output_type": "execute_result"
    }
   ],
   "source": [
    "lb = beta_hat - 2 * se1\n",
    "hb = beta_hat + 2 * se1\n",
    "bound = np.column_stack((lb,hb)) # 95% 유의수준에서 신뢰구간\n",
    "bound.round(2)"
   ]
  },
  {
   "cell_type": "code",
   "execution_count": 54,
   "id": "110e1768",
   "metadata": {},
   "outputs": [
    {
     "data": {
      "text/plain": [
       "array([ 1.63 , 56.981])"
      ]
     },
     "execution_count": 54,
     "metadata": {},
     "output_type": "execute_result"
    }
   ],
   "source": [
    "t = beta_hat / se1\n",
    "t.round(3)"
   ]
  },
  {
   "cell_type": "code",
   "execution_count": 55,
   "id": "7f540bf1",
   "metadata": {},
   "outputs": [],
   "source": [
    "# p값을 구한다. p값은 t-분포의 양쪽 극단치의 확률을 구하기 때문에 구할 때 t 값이 음수 영역과 양수 영역인 경우 구하는 방식이 다르다.\n",
    "# 또한 양측검정이기 때문에 t값에 해당하는 확률에 2를 곱해주어야 한다.\n"
   ]
  },
  {
   "cell_type": "code",
   "execution_count": 56,
   "id": "bc0b7d32",
   "metadata": {},
   "outputs": [
    {
     "data": {
      "text/plain": [
       "array([0.10313123, 0.        ])"
      ]
     },
     "execution_count": 56,
     "metadata": {},
     "output_type": "execute_result"
    }
   ],
   "source": [
    "from scipy import stats\n",
    "df = len(e) - 2\n",
    "p0 = np.zeros(k)\n",
    "for i in range(k):\n",
    "    if t[i] > 0:\n",
    "        p0[i,] = (1-stats.t.cdf(t[i],df=df))*2\n",
    "    else:\n",
    "        p0[i,] = (stats.t.cdf(t[i],df=df))*2\n",
    "p0"
   ]
  },
  {
   "cell_type": "markdown",
   "id": "18628842",
   "metadata": {},
   "source": [
    "# 회귀분석:변수변환"
   ]
  },
  {
   "cell_type": "markdown",
   "id": "5fc63ac6",
   "metadata": {},
   "source": [
    "## 로그변환 :"
   ]
  },
  {
   "cell_type": "code",
   "execution_count": 65,
   "id": "c21295ca",
   "metadata": {},
   "outputs": [],
   "source": [
    "df1 = df.loc[(df['income']>0) & (df['asset']>0) & (df['education_year']>0) & (df['age'] > 0)] # 로그변환을 위해서 0이하를 가지고 있는 값을 제외\n"
   ]
  },
  {
   "cell_type": "code",
   "execution_count": 66,
   "id": "dec9a394",
   "metadata": {},
   "outputs": [],
   "source": [
    "df2 = df1.copy()\n",
    "df2['In_income'] = np.log(df2['income'])\n",
    "df2['In_eduYear'] = np.log(df2['education_year'])"
   ]
  },
  {
   "cell_type": "code",
   "execution_count": 69,
   "id": "797a0c2f",
   "metadata": {},
   "outputs": [
    {
     "name": "stdout",
     "output_type": "stream",
     "text": [
      "                            OLS Regression Results                            \n",
      "==============================================================================\n",
      "Dep. Variable:                 income   R-squared:                       0.152\n",
      "Model:                            OLS   Adj. R-squared:                  0.152\n",
      "Method:                 Least Squares   F-statistic:                     3247.\n",
      "Date:                Mon, 08 May 2023   Prob (F-statistic):               0.00\n",
      "Time:                        13:20:20   Log-Likelihood:            -1.7489e+05\n",
      "No. Observations:               18064   AIC:                         3.498e+05\n",
      "Df Residuals:                   18062   BIC:                         3.498e+05\n",
      "Df Model:                           1                                         \n",
      "Covariance Type:            nonrobust                                         \n",
      "==================================================================================\n",
      "                     coef    std err          t      P>|t|      [0.025      0.975]\n",
      "----------------------------------------------------------------------------------\n",
      "Intercept        133.0011     81.599      1.630      0.103     -26.940     292.942\n",
      "education_year   370.3640      6.500     56.981      0.000     357.624     383.104\n",
      "==============================================================================\n",
      "Omnibus:                    26735.077   Durbin-Watson:                   1.933\n",
      "Prob(Omnibus):                  0.000   Jarque-Bera (JB):         54869162.398\n",
      "Skew:                           8.393   Prob(JB):                         0.00\n",
      "Kurtosis:                     272.477   Cond. No.                         35.7\n",
      "==============================================================================\n",
      "\n",
      "Notes:\n",
      "[1] Standard Errors assume that the covariance matrix of the errors is correctly specified.\n"
     ]
    }
   ],
   "source": [
    "edu_model101 = ols(\"income ~ education_year\",data = df2).fit()\n",
    "print(edu_model.summary())"
   ]
  },
  {
   "cell_type": "code",
   "execution_count": 70,
   "id": "ec75364c",
   "metadata": {},
   "outputs": [],
   "source": [
    "# 1. 소득은 수준변수  교육연수는 로그를 취하여 회귀분석\n",
    "# 로그 교육 기간이 0.01 단위 증가는 소득이 0.01 X 4533만 원 증가한다.다른 말로 교육 기간이 1% 증가하면 소득은 45만 원 증가한다."
   ]
  },
  {
   "cell_type": "code",
   "execution_count": 72,
   "id": "21647739",
   "metadata": {},
   "outputs": [
    {
     "name": "stdout",
     "output_type": "stream",
     "text": [
      "                            OLS Regression Results                            \n",
      "==============================================================================\n",
      "Dep. Variable:                 income   R-squared:                       0.128\n",
      "Model:                            OLS   Adj. R-squared:                  0.127\n",
      "Method:                 Least Squares   F-statistic:                     2488.\n",
      "Date:                Mon, 08 May 2023   Prob (F-statistic):               0.00\n",
      "Time:                        13:22:35   Log-Likelihood:            -1.6514e+05\n",
      "No. Observations:               17027   AIC:                         3.303e+05\n",
      "Df Residuals:                   17025   BIC:                         3.303e+05\n",
      "Df Model:                           1                                         \n",
      "Covariance Type:            nonrobust                                         \n",
      "==============================================================================\n",
      "                 coef    std err          t      P>|t|      [0.025      0.975]\n",
      "------------------------------------------------------------------------------\n",
      "Intercept  -6486.5654    226.101    -28.689      0.000   -6929.746   -6043.384\n",
      "In_eduYear  4533.0082     90.874     49.882      0.000    4354.885    4711.131\n",
      "==============================================================================\n",
      "Omnibus:                    25430.327   Durbin-Watson:                   1.929\n",
      "Prob(Omnibus):                  0.000   Jarque-Bera (JB):         50602967.264\n",
      "Skew:                           8.570   Prob(JB):                         0.00\n",
      "Kurtosis:                     269.519   Cond. No.                         21.6\n",
      "==============================================================================\n",
      "\n",
      "Notes:\n",
      "[1] Standard Errors assume that the covariance matrix of the errors is correctly specified.\n"
     ]
    }
   ],
   "source": [
    "edu_model02 = ols(\"income ~ In_eduYear\",data=df2).fit()\n",
    "print(edu_model02.summary())"
   ]
  },
  {
   "cell_type": "code",
   "execution_count": 74,
   "id": "ab3307e0",
   "metadata": {},
   "outputs": [],
   "source": [
    "# 2. 소득은 로그값, 교육연수는 수준변수를 이용하여 회귀분석\n",
    "# 교육 기간이 1년 증가하면 로그소득은 0.106만큼 증가. 다른 말로 1년 증가하면 소득은 100 X 0.106 = 10.6% 증가한다."
   ]
  },
  {
   "cell_type": "code",
   "execution_count": 75,
   "id": "b26d1da4",
   "metadata": {},
   "outputs": [
    {
     "name": "stdout",
     "output_type": "stream",
     "text": [
      "                            OLS Regression Results                            \n",
      "==============================================================================\n",
      "Dep. Variable:              In_income   R-squared:                       0.199\n",
      "Model:                            OLS   Adj. R-squared:                  0.199\n",
      "Method:                 Least Squares   F-statistic:                     4231.\n",
      "Date:                Mon, 08 May 2023   Prob (F-statistic):               0.00\n",
      "Time:                        13:28:01   Log-Likelihood:                -19579.\n",
      "No. Observations:               17027   AIC:                         3.916e+04\n",
      "Df Residuals:                   17025   BIC:                         3.918e+04\n",
      "Df Model:                           1                                         \n",
      "Covariance Type:            nonrobust                                         \n",
      "==================================================================================\n",
      "                     coef    std err          t      P>|t|      [0.025      0.975]\n",
      "----------------------------------------------------------------------------------\n",
      "Intercept          6.8185      0.021    324.350      0.000       6.777       6.860\n",
      "education_year     0.1061      0.002     65.043      0.000       0.103       0.109\n",
      "==============================================================================\n",
      "Omnibus:                     1933.577   Durbin-Watson:                   1.951\n",
      "Prob(Omnibus):                  0.000   Jarque-Bera (JB):             4370.183\n",
      "Skew:                          -0.690   Prob(JB):                         0.00\n",
      "Kurtosis:                       5.063   Cond. No.                         46.5\n",
      "==============================================================================\n",
      "\n",
      "Notes:\n",
      "[1] Standard Errors assume that the covariance matrix of the errors is correctly specified.\n"
     ]
    }
   ],
   "source": [
    "edu_model03 = ols(\"In_income ~ education_year\",data=df2).fit()\n",
    "print(edu_model03.summary())"
   ]
  },
  {
   "cell_type": "code",
   "execution_count": 76,
   "id": "acc44554",
   "metadata": {},
   "outputs": [],
   "source": [
    "# 3. 로그 소득값, 로그 교육연수 값을 이용하여 회귀분석\n",
    "#  교육기간이 0.01 증가하면 로그 소득은 0.01 X 1.1430만큼 증가한다. 다른 말고 교육기간이 1% 증가하면 소득은 약 1.14% 증가함."
   ]
  },
  {
   "cell_type": "code",
   "execution_count": 77,
   "id": "05619b54",
   "metadata": {},
   "outputs": [
    {
     "name": "stdout",
     "output_type": "stream",
     "text": [
      "                            OLS Regression Results                            \n",
      "==============================================================================\n",
      "Dep. Variable:              In_income   R-squared:                       0.198\n",
      "Model:                            OLS   Adj. R-squared:                  0.198\n",
      "Method:                 Least Squares   F-statistic:                     4208.\n",
      "Date:                Mon, 08 May 2023   Prob (F-statistic):               0.00\n",
      "Time:                        13:34:02   Log-Likelihood:                -19589.\n",
      "No. Observations:               17027   AIC:                         3.918e+04\n",
      "Df Residuals:                   17025   BIC:                         3.920e+04\n",
      "Df Model:                           1                                         \n",
      "Covariance Type:            nonrobust                                         \n",
      "==============================================================================\n",
      "                 coef    std err          t      P>|t|      [0.025      0.975]\n",
      "------------------------------------------------------------------------------\n",
      "Intercept      5.3134      0.044    121.203      0.000       5.227       5.399\n",
      "In_eduYear     1.1430      0.018     64.869      0.000       1.108       1.178\n",
      "==============================================================================\n",
      "Omnibus:                     1953.007   Durbin-Watson:                   1.950\n",
      "Prob(Omnibus):                  0.000   Jarque-Bera (JB):             4464.579\n",
      "Skew:                          -0.693   Prob(JB):                         0.00\n",
      "Kurtosis:                       5.091   Cond. No.                         21.6\n",
      "==============================================================================\n",
      "\n",
      "Notes:\n",
      "[1] Standard Errors assume that the covariance matrix of the errors is correctly specified.\n"
     ]
    }
   ],
   "source": [
    "edu_model04 = ols(\"In_income ~ In_eduYear\",data = df2).fit()\n",
    "print(edu_model04.summary())"
   ]
  },
  {
   "cell_type": "markdown",
   "id": "6dcc5ce8",
   "metadata": {},
   "source": [
    "## 제곱항을 설명변수에 추가"
   ]
  },
  {
   "cell_type": "code",
   "execution_count": 79,
   "id": "29f8458d",
   "metadata": {},
   "outputs": [
    {
     "data": {
      "image/png": "[encoded data removed]",
      "text/plain": [
       "<Figure size 576x396 with 1 Axes>"
      ]
     },
     "metadata": {},
     "output_type": "display_data"
    }
   ],
   "source": [
    "import matplotlib.pyplot as plt\n",
    "plt.style.use('seaborn')\n",
    "df2.plot(x='age',y='income',kind='scatter')\n",
    "plt.show()"
   ]
  },
  {
   "cell_type": "markdown",
   "id": "22fd34a6",
   "metadata": {},
   "source": [
    "### 나이의 제곱항을 설명변수에 포함시킨다. 나이의 제곱이 포함된 모델의 경우 나이가 증가하면 소득이 오르지만, 증가폭이 커질수록 감소하는 것으로 나타나 소득과 나이와의 관계를 잘 설명하고 있다."
   ]
  },
  {
   "cell_type": "code",
   "execution_count": 80,
   "id": "0939fc55",
   "metadata": {},
   "outputs": [
    {
     "name": "stdout",
     "output_type": "stream",
     "text": [
      "                            OLS Regression Results                            \n",
      "==============================================================================\n",
      "Dep. Variable:                 income   R-squared:                       0.176\n",
      "Model:                            OLS   Adj. R-squared:                  0.176\n",
      "Method:                 Least Squares   F-statistic:                     1212.\n",
      "Date:                Mon, 08 May 2023   Prob (F-statistic):               0.00\n",
      "Time:                        13:43:20   Log-Likelihood:            -1.6465e+05\n",
      "No. Observations:               17027   AIC:                         3.293e+05\n",
      "Df Residuals:                   17023   BIC:                         3.293e+05\n",
      "Df Model:                           3                                         \n",
      "Covariance Type:            nonrobust                                         \n",
      "==================================================================================\n",
      "                     coef    std err          t      P>|t|      [0.025      0.975]\n",
      "----------------------------------------------------------------------------------\n",
      "Intercept      -1.002e+04    428.132    -23.393      0.000   -1.09e+04   -9175.939\n",
      "education_year   401.1498      9.726     41.246      0.000     382.086     420.213\n",
      "age              378.0587     14.287     26.462      0.000     350.055     406.063\n",
      "age2              -3.4214      0.125    -27.419      0.000      -3.666      -3.177\n",
      "==============================================================================\n",
      "Omnibus:                    26184.694   Durbin-Watson:                   1.930\n",
      "Prob(Omnibus):                  0.000   Jarque-Bera (JB):         61622759.778\n",
      "Skew:                           9.063   Prob(JB):                         0.00\n",
      "Kurtosis:                     297.160   Cond. No.                     5.50e+04\n",
      "==============================================================================\n",
      "\n",
      "Notes:\n",
      "[1] Standard Errors assume that the covariance matrix of the errors is correctly specified.\n",
      "[2] The condition number is large, 5.5e+04. This might indicate that there are\n",
      "strong multicollinearity or other numerical problems.\n"
     ]
    }
   ],
   "source": [
    "df2['age2'] = df2['age'] ** 2\n",
    "edu_model = ols(\"income ~ education_year + age +age2\",data = df2).fit()\n",
    "print(edu_model.summary())"
   ]
  },
  {
   "cell_type": "markdown",
   "id": "6d474b34",
   "metadata": {},
   "source": [
    "### 해당 회귀식으로부터 추정한 이차다항식으로부터 임금이 최대인 연령의 집단을 구한다\n",
    "### 소득 = -10020 + 401*교육연수 + 378 * 나이  - 3.4 * 나이( 제곱)"
   ]
  },
  {
   "cell_type": "markdown",
   "id": "3864826e",
   "metadata": {},
   "source": [
    "## 더미변수 추가\n",
    "### 성별과 직업 종류, 결혼 상태가 소득에 영향을 미치는지 살펴보기 위해 성별 더미, 직업 종류, 결혼 상태 더미를 만든다."
   ]
  },
  {
   "cell_type": "code",
   "execution_count": 82,
   "id": "61292c4a",
   "metadata": {},
   "outputs": [
    {
     "data": {
      "text/html": [
       "<div>\n",
       "<style scoped>\n",
       "    .dataframe tbody tr th:only-of-type {\n",
       "        vertical-align: middle;\n",
       "    }\n",
       "\n",
       "    .dataframe tbody tr th {\n",
       "        vertical-align: top;\n",
       "    }\n",
       "\n",
       "    .dataframe thead th {\n",
       "        text-align: right;\n",
       "    }\n",
       "</style>\n",
       "<table border=\"1\" class=\"dataframe\">\n",
       "  <thead>\n",
       "    <tr style=\"text-align: right;\">\n",
       "      <th></th>\n",
       "      <th>s1</th>\n",
       "      <th>s2</th>\n",
       "    </tr>\n",
       "  </thead>\n",
       "  <tbody>\n",
       "    <tr>\n",
       "      <th>18058</th>\n",
       "      <td>1</td>\n",
       "      <td>0</td>\n",
       "    </tr>\n",
       "    <tr>\n",
       "      <th>18060</th>\n",
       "      <td>1</td>\n",
       "      <td>0</td>\n",
       "    </tr>\n",
       "    <tr>\n",
       "      <th>18061</th>\n",
       "      <td>1</td>\n",
       "      <td>0</td>\n",
       "    </tr>\n",
       "    <tr>\n",
       "      <th>18062</th>\n",
       "      <td>0</td>\n",
       "      <td>1</td>\n",
       "    </tr>\n",
       "    <tr>\n",
       "      <th>18063</th>\n",
       "      <td>1</td>\n",
       "      <td>0</td>\n",
       "    </tr>\n",
       "  </tbody>\n",
       "</table>\n",
       "</div>"
      ],
      "text/plain": [
       "       s1  s2\n",
       "18058   1   0\n",
       "18060   1   0\n",
       "18061   1   0\n",
       "18062   0   1\n",
       "18063   1   0"
      ]
     },
     "execution_count": 82,
     "metadata": {},
     "output_type": "execute_result"
    }
   ],
   "source": [
    "df2['job_code'] = df2['job']\n",
    "df2['sex'] = (df2['sex']).astype(int)\n",
    "# 남녀 성별 더미변수 만들기\n",
    "sex_dummies = pd.get_dummies(df2['sex']).rename(columns=lambda x: 's' + str(x))\n",
    "sex_dummies.tail()"
   ]
  },
  {
   "cell_type": "code",
   "execution_count": 83,
   "id": "354f3fae",
   "metadata": {},
   "outputs": [
    {
     "data": {
      "text/html": [
       "<div>\n",
       "<style scoped>\n",
       "    .dataframe tbody tr th:only-of-type {\n",
       "        vertical-align: middle;\n",
       "    }\n",
       "\n",
       "    .dataframe tbody tr th {\n",
       "        vertical-align: top;\n",
       "    }\n",
       "\n",
       "    .dataframe thead th {\n",
       "        text-align: right;\n",
       "    }\n",
       "</style>\n",
       "<table border=\"1\" class=\"dataframe\">\n",
       "  <thead>\n",
       "    <tr style=\"text-align: right;\">\n",
       "      <th></th>\n",
       "      <th>d1</th>\n",
       "      <th>d2</th>\n",
       "      <th>d3</th>\n",
       "      <th>d4</th>\n",
       "      <th>d5</th>\n",
       "      <th>d6</th>\n",
       "      <th>d7</th>\n",
       "      <th>d8</th>\n",
       "      <th>d9</th>\n",
       "      <th>dA</th>\n",
       "    </tr>\n",
       "  </thead>\n",
       "  <tbody>\n",
       "    <tr>\n",
       "      <th>18058</th>\n",
       "      <td>0</td>\n",
       "      <td>1</td>\n",
       "      <td>0</td>\n",
       "      <td>0</td>\n",
       "      <td>0</td>\n",
       "      <td>0</td>\n",
       "      <td>0</td>\n",
       "      <td>0</td>\n",
       "      <td>0</td>\n",
       "      <td>0</td>\n",
       "    </tr>\n",
       "    <tr>\n",
       "      <th>18060</th>\n",
       "      <td>0</td>\n",
       "      <td>0</td>\n",
       "      <td>1</td>\n",
       "      <td>0</td>\n",
       "      <td>0</td>\n",
       "      <td>0</td>\n",
       "      <td>0</td>\n",
       "      <td>0</td>\n",
       "      <td>0</td>\n",
       "      <td>0</td>\n",
       "    </tr>\n",
       "    <tr>\n",
       "      <th>18061</th>\n",
       "      <td>0</td>\n",
       "      <td>0</td>\n",
       "      <td>0</td>\n",
       "      <td>0</td>\n",
       "      <td>0</td>\n",
       "      <td>0</td>\n",
       "      <td>0</td>\n",
       "      <td>0</td>\n",
       "      <td>0</td>\n",
       "      <td>0</td>\n",
       "    </tr>\n",
       "    <tr>\n",
       "      <th>18062</th>\n",
       "      <td>0</td>\n",
       "      <td>1</td>\n",
       "      <td>0</td>\n",
       "      <td>0</td>\n",
       "      <td>0</td>\n",
       "      <td>0</td>\n",
       "      <td>0</td>\n",
       "      <td>0</td>\n",
       "      <td>0</td>\n",
       "      <td>0</td>\n",
       "    </tr>\n",
       "    <tr>\n",
       "      <th>18063</th>\n",
       "      <td>0</td>\n",
       "      <td>0</td>\n",
       "      <td>1</td>\n",
       "      <td>0</td>\n",
       "      <td>0</td>\n",
       "      <td>0</td>\n",
       "      <td>0</td>\n",
       "      <td>0</td>\n",
       "      <td>0</td>\n",
       "      <td>0</td>\n",
       "    </tr>\n",
       "  </tbody>\n",
       "</table>\n",
       "</div>"
      ],
      "text/plain": [
       "       d1  d2  d3  d4  d5  d6  d7  d8  d9  dA\n",
       "18058   0   1   0   0   0   0   0   0   0   0\n",
       "18060   0   0   1   0   0   0   0   0   0   0\n",
       "18061   0   0   0   0   0   0   0   0   0   0\n",
       "18062   0   1   0   0   0   0   0   0   0   0\n",
       "18063   0   0   1   0   0   0   0   0   0   0"
      ]
     },
     "execution_count": 83,
     "metadata": {},
     "output_type": "execute_result"
    }
   ],
   "source": [
    "# 직업 더미변수 만들기\n",
    "job_dummies = pd.get_dummies(df2['job_code']).rename(columns=lambda x : 'd'+str(x))\n",
    "job_dummies.tail()"
   ]
  },
  {
   "cell_type": "code",
   "execution_count": 84,
   "id": "99dba1d3",
   "metadata": {},
   "outputs": [
    {
     "data": {
      "text/html": [
       "<div>\n",
       "<style scoped>\n",
       "    .dataframe tbody tr th:only-of-type {\n",
       "        vertical-align: middle;\n",
       "    }\n",
       "\n",
       "    .dataframe tbody tr th {\n",
       "        vertical-align: top;\n",
       "    }\n",
       "\n",
       "    .dataframe thead th {\n",
       "        text-align: right;\n",
       "    }\n",
       "</style>\n",
       "<table border=\"1\" class=\"dataframe\">\n",
       "  <thead>\n",
       "    <tr style=\"text-align: right;\">\n",
       "      <th></th>\n",
       "      <th>m1</th>\n",
       "      <th>m2</th>\n",
       "      <th>m3</th>\n",
       "      <th>m4</th>\n",
       "    </tr>\n",
       "  </thead>\n",
       "  <tbody>\n",
       "    <tr>\n",
       "      <th>18058</th>\n",
       "      <td>0</td>\n",
       "      <td>1</td>\n",
       "      <td>0</td>\n",
       "      <td>0</td>\n",
       "    </tr>\n",
       "    <tr>\n",
       "      <th>18060</th>\n",
       "      <td>0</td>\n",
       "      <td>1</td>\n",
       "      <td>0</td>\n",
       "      <td>0</td>\n",
       "    </tr>\n",
       "    <tr>\n",
       "      <th>18061</th>\n",
       "      <td>0</td>\n",
       "      <td>1</td>\n",
       "      <td>0</td>\n",
       "      <td>0</td>\n",
       "    </tr>\n",
       "    <tr>\n",
       "      <th>18062</th>\n",
       "      <td>0</td>\n",
       "      <td>0</td>\n",
       "      <td>0</td>\n",
       "      <td>1</td>\n",
       "    </tr>\n",
       "    <tr>\n",
       "      <th>18063</th>\n",
       "      <td>0</td>\n",
       "      <td>1</td>\n",
       "      <td>0</td>\n",
       "      <td>0</td>\n",
       "    </tr>\n",
       "  </tbody>\n",
       "</table>\n",
       "</div>"
      ],
      "text/plain": [
       "       m1  m2  m3  m4\n",
       "18058   0   1   0   0\n",
       "18060   0   1   0   0\n",
       "18061   0   1   0   0\n",
       "18062   0   0   0   1\n",
       "18063   0   1   0   0"
      ]
     },
     "execution_count": 84,
     "metadata": {},
     "output_type": "execute_result"
    }
   ],
   "source": [
    "# 결혼 형태 더미변수 만들기\n",
    "marriage_dummies = pd.get_dummies(df2['marriage']).rename(columns = lambda x : 'm'+str(x))\n",
    "marriage_dummies.tail()"
   ]
  },
  {
   "cell_type": "code",
   "execution_count": 85,
   "id": "05693871",
   "metadata": {},
   "outputs": [],
   "source": [
    "# 더미변수 통합하기'\n",
    "df3 = pd.concat([df2,job_dummies,sex_dummies,marriage_dummies],axis = 1)\n",
    " # 다른 요인이 동일하다고 가정한 경우 여성 가구주는 남성 가구주보다 연소득이 1571만원 적습니다. 이는 1% 수준에서 통계적으로 유의하다"
   ]
  },
  {
   "cell_type": "code",
   "execution_count": 86,
   "id": "c29ad283",
   "metadata": {},
   "outputs": [
    {
     "name": "stdout",
     "output_type": "stream",
     "text": [
      "                            OLS Regression Results                            \n",
      "==============================================================================\n",
      "Dep. Variable:                 income   R-squared:                       0.199\n",
      "Model:                            OLS   Adj. R-squared:                  0.199\n",
      "Method:                 Least Squares   F-statistic:                     1057.\n",
      "Date:                Mon, 08 May 2023   Prob (F-statistic):               0.00\n",
      "Time:                        14:01:50   Log-Likelihood:            -1.6441e+05\n",
      "No. Observations:               17027   AIC:                         3.288e+05\n",
      "Df Residuals:                   17022   BIC:                         3.289e+05\n",
      "Df Model:                           4                                         \n",
      "Covariance Type:            nonrobust                                         \n",
      "==================================================================================\n",
      "                     coef    std err          t      P>|t|      [0.025      0.975]\n",
      "----------------------------------------------------------------------------------\n",
      "Intercept      -8244.1320    429.710    -19.185      0.000   -9086.408   -7401.856\n",
      "education_year   349.8860      9.867     35.460      0.000     330.545     369.227\n",
      "age              351.7653     14.138     24.882      0.000     324.054     379.476\n",
      "age2              -3.2111      0.123    -26.021      0.000      -3.453      -2.969\n",
      "s2             -1571.1717     71.201    -22.067      0.000   -1710.733   -1431.610\n",
      "==============================================================================\n",
      "Omnibus:                    26669.240   Durbin-Watson:                   1.931\n",
      "Prob(Omnibus):                  0.000   Jarque-Bera (JB):         68429274.582\n",
      "Skew:                           9.400   Prob(JB):                         0.00\n",
      "Kurtosis:                     312.999   Cond. No.                     5.60e+04\n",
      "==============================================================================\n",
      "\n",
      "Notes:\n",
      "[1] Standard Errors assume that the covariance matrix of the errors is correctly specified.\n",
      "[2] The condition number is large, 5.6e+04. This might indicate that there are\n",
      "strong multicollinearity or other numerical problems.\n"
     ]
    }
   ],
   "source": [
    "edu_model = ols(\"income ~ education_year + age + age2 + s2\",data=df3).fit()\n",
    "print(edu_model.summary())"
   ]
  },
  {
   "cell_type": "code",
   "execution_count": 87,
   "id": "3021ec7e",
   "metadata": {},
   "outputs": [
    {
     "name": "stdout",
     "output_type": "stream",
     "text": [
      "                            OLS Regression Results                            \n",
      "==============================================================================\n",
      "Dep. Variable:                 income   R-squared:                       0.228\n",
      "Model:                            OLS   Adj. R-squared:                  0.228\n",
      "Method:                 Least Squares   F-statistic:                     387.4\n",
      "Date:                Mon, 08 May 2023   Prob (F-statistic):               0.00\n",
      "Time:                        14:06:03   Log-Likelihood:            -1.6409e+05\n",
      "No. Observations:               17027   AIC:                         3.282e+05\n",
      "Df Residuals:                   17013   BIC:                         3.283e+05\n",
      "Df Model:                          13                                         \n",
      "Covariance Type:            nonrobust                                         \n",
      "==================================================================================\n",
      "                     coef    std err          t      P>|t|      [0.025      0.975]\n",
      "----------------------------------------------------------------------------------\n",
      "Intercept      -9057.7109    425.290    -21.298      0.000   -9891.323   -8224.099\n",
      "education_year   267.9462     10.700     25.042      0.000     246.973     288.919\n",
      "age              361.2631     14.135     25.558      0.000     333.556     388.970\n",
      "age2              -3.1015      0.125    -24.770      0.000      -3.347      -2.856\n",
      "s2             -1557.9952     73.813    -21.107      0.000   -1702.676   -1413.315\n",
      "d2              2443.8902    116.601     20.959      0.000    2215.340    2672.441\n",
      "d3              2283.3620    114.988     19.857      0.000    2057.974    2508.750\n",
      "d4               827.5071    130.221      6.355      0.000     572.260    1082.754\n",
      "d5              1129.4568    129.323      8.734      0.000     875.971    1382.942\n",
      "d6               489.5821    127.680      3.834      0.000     239.315     739.849\n",
      "d7               813.7138    122.687      6.632      0.000     573.234    1054.193\n",
      "d8              1069.4554    112.351      9.519      0.000     849.235    1289.676\n",
      "d9                59.7163    108.171      0.552      0.581    -152.311     271.743\n",
      "dA              2537.4510    747.183      3.396      0.001    1072.895    4002.007\n",
      "==============================================================================\n",
      "Omnibus:                    27150.122   Durbin-Watson:                   1.941\n",
      "Prob(Omnibus):                  0.000   Jarque-Bera (JB):         76199038.743\n",
      "Skew:                           9.742   Prob(JB):                         0.00\n",
      "Kurtosis:                     330.147   Cond. No.                     9.92e+04\n",
      "==============================================================================\n",
      "\n",
      "Notes:\n",
      "[1] Standard Errors assume that the covariance matrix of the errors is correctly specified.\n",
      "[2] The condition number is large, 9.92e+04. This might indicate that there are\n",
      "strong multicollinearity or other numerical problems.\n"
     ]
    }
   ],
   "source": [
    "edu1_model = ols(\"income ~ education_year + age + age2 + s2 + d2 + d3 + d4 + d5 + d6 + d7 + d8 + d9 + dA\",data = df3).fit()\n",
    "print(edu1_model.summary())  # d1을 뺏으니까 d1과 상대적으로 비교하면 된다"
   ]
  },
  {
   "cell_type": "code",
   "execution_count": 88,
   "id": "8882acf4",
   "metadata": {},
   "outputs": [],
   "source": [
    "# 결혼 상태 1.미혼 2. 배우자 있음 3. 사별  4. 이혼"
   ]
  },
  {
   "cell_type": "code",
   "execution_count": 89,
   "id": "e012e59b",
   "metadata": {},
   "outputs": [
    {
     "name": "stdout",
     "output_type": "stream",
     "text": [
      "                            OLS Regression Results                            \n",
      "==============================================================================\n",
      "Dep. Variable:                 income   R-squared:                       0.271\n",
      "Model:                            OLS   Adj. R-squared:                  0.270\n",
      "Method:                 Least Squares   F-statistic:                     394.3\n",
      "Date:                Mon, 08 May 2023   Prob (F-statistic):               0.00\n",
      "Time:                        14:09:58   Log-Likelihood:            -1.6361e+05\n",
      "No. Observations:               17027   AIC:                         3.273e+05\n",
      "Df Residuals:                   17010   BIC:                         3.274e+05\n",
      "Df Model:                          16                                         \n",
      "Covariance Type:            nonrobust                                         \n",
      "==================================================================================\n",
      "                     coef    std err          t      P>|t|      [0.025      0.975]\n",
      "----------------------------------------------------------------------------------\n",
      "Intercept      -8925.6876    418.254    -21.340      0.000   -9745.509   -8105.866\n",
      "education_year   243.7347     10.504     23.204      0.000     223.146     264.323\n",
      "age              314.3510     14.483     21.704      0.000     285.962     342.740\n",
      "age2              -2.8801      0.127    -22.708      0.000      -3.129      -2.631\n",
      "s2              -440.7427     90.500     -4.870      0.000    -618.132    -263.353\n",
      "d2              2103.2217    114.009     18.448      0.000    1879.751    2326.692\n",
      "d3              1872.4336    112.630     16.625      0.000    1651.667    2093.200\n",
      "d4               630.4436    127.025      4.963      0.000     381.461     879.426\n",
      "d5               839.0522    126.265      6.645      0.000     591.560    1086.544\n",
      "d6               229.6801    124.737      1.841      0.066     -14.818     474.178\n",
      "d7               572.6043    119.568      4.789      0.000     338.238     806.970\n",
      "d8               855.9948    109.516      7.816      0.000     641.332    1070.658\n",
      "d9                54.2490    105.252      0.515      0.606    -152.055     260.553\n",
      "dA              1813.1459    726.964      2.494      0.013     388.221    3238.071\n",
      "m2              2658.0542    108.753     24.441      0.000    2444.887    2871.221\n",
      "m3              1493.1050    143.496     10.405      0.000    1211.839    1774.371\n",
      "m4               205.1495    132.932      1.543      0.123     -55.411     465.710\n",
      "==============================================================================\n",
      "Omnibus:                    28085.212   Durbin-Watson:                   1.943\n",
      "Prob(Omnibus):                  0.000   Jarque-Bera (JB):         93405591.610\n",
      "Skew:                          10.435   Prob(JB):                         0.00\n",
      "Kurtosis:                     365.246   Cond. No.                     9.92e+04\n",
      "==============================================================================\n",
      "\n",
      "Notes:\n",
      "[1] Standard Errors assume that the covariance matrix of the errors is correctly specified.\n",
      "[2] The condition number is large, 9.92e+04. This might indicate that there are\n",
      "strong multicollinearity or other numerical problems.\n"
     ]
    }
   ],
   "source": [
    "edu2_model = ols('income ~ education_year + age + age2 + s2 + d2 + d3 + d4 + d5 + d6 + d7 + d8 + d9 + dA + m2 + m3 + m4',data = df3).fit()\n",
    "print(edu2_model.summary())"
   ]
  },
  {
   "cell_type": "markdown",
   "id": "8db88548",
   "metadata": {},
   "source": [
    "# 교육 연수, 나이, 성별, 직업 등이 소득에 미치는 영향"
   ]
  },
  {
   "cell_type": "code",
   "execution_count": 92,
   "id": "d911cc4b",
   "metadata": {},
   "outputs": [
    {
     "name": "stdout",
     "output_type": "stream",
     "text": [
      "                         Table 1 - OLS Regressions\n",
      "===========================================================================\n",
      "                  Model1      Model2       Model3      Model4      Model5  \n",
      "---------------------------------------------------------------------------\n",
      "const           -736.91*** -10015.12*** -8244.13*** -9057.71*** -8925.69***\n",
      "                (107.76)   (428.13)     (429.71)    (425.29)    (418.25)   \n",
      "education_year  438.55***  401.15***    349.89***   267.95***   243.73***  \n",
      "                (8.36)     (9.73)       (9.87)      (10.70)     (10.50)    \n",
      "age                        378.06***    351.77***   361.26***   314.35***  \n",
      "                           (14.29)      (14.14)     (14.14)     (14.48)    \n",
      "age2                       -3.42***     -3.21***    -3.10***    -2.88***   \n",
      "                           (0.12)       (0.12)      (0.13)      (0.13)     \n",
      "s2                                      -1571.17*** -1558.00*** -440.74*** \n",
      "                                        (71.20)     (73.81)     (90.50)    \n",
      "d2                                                  2443.89***  2103.22*** \n",
      "                                                    (116.60)    (114.01)   \n",
      "d3                                                  2283.36***  1872.43*** \n",
      "                                                    (114.99)    (112.63)   \n",
      "d4                                                  827.51***   630.44***  \n",
      "                                                    (130.22)    (127.03)   \n",
      "d5                                                  1129.46***  839.05***  \n",
      "                                                    (129.32)    (126.26)   \n",
      "d6                                                  489.58***   229.68*    \n",
      "                                                    (127.68)    (124.74)   \n",
      "d7                                                  813.71***   572.60***  \n",
      "                                                    (122.69)    (119.57)   \n",
      "d8                                                  1069.46***  855.99***  \n",
      "                                                    (112.35)    (109.52)   \n",
      "d9                                                  59.72       54.25      \n",
      "                                                    (108.17)    (105.25)   \n",
      "dA                                                  2537.45***  1813.15**  \n",
      "                                                    (747.18)    (726.96)   \n",
      "m2                                                              2658.05*** \n",
      "                                                                (108.75)   \n",
      "m3                                                              1493.10*** \n",
      "                                                                (143.50)   \n",
      "m4                                                              205.15     \n",
      "                                                                (132.93)   \n",
      "R-squared       0.14       0.18         0.20        0.23        0.27       \n",
      "R-squared Adj.  0.14       0.18         0.20        0.23        0.27       \n",
      "R-squared       0.14       0.18         0.20        0.23        0.27       \n",
      "No.observations 17027      17027        17027       17027       17027      \n",
      "===========================================================================\n",
      "Standard errors in parentheses.\n",
      "* p<.1, ** p<.05, ***p<.01\n"
     ]
    }
   ],
   "source": [
    "from statsmodels.iolib.summary2 import summary_col\n",
    "df3['const'] = 1\n",
    "# create lists of variables to be used in each regression\n",
    "x1 = ['const','education_year']\n",
    "x2 = ['const','education_year','age','age2']\n",
    "x3 = ['const','education_year','age','age2','s2']\n",
    "x4 = ['const','education_year','age','age2','s2','d2','d3','d4','d5','d6','d7','d8','d9','dA']\n",
    "x5 = ['const','education_year','age','age2','s2','d2','d3','d4','d5','d6','d7','d8','d9','dA','m2','m3','m4']\n",
    "# estimate an ols regression for each set of variables\n",
    "reg1 = sm.OLS(df3['income'],df3[x1],missing='drop').fit()\n",
    "reg2 = sm.OLS(df3['income'],df3[x2],missing='drop').fit()\n",
    "reg3 = sm.OLS(df3['income'],df3[x3],missing='drop').fit()\n",
    "reg4 = sm.OLS(df3['income'],df3[x4],missing='drop').fit()\n",
    "reg5 = sm.OLS(df3['income'],df3[x5],missing='drop').fit()\n",
    "info_dict = {'R-squared': lambda x : f\"{x.rsquared:.2f}\",\n",
    "            'No.observations' : lambda x : f\"{int(x.nobs):d}\"\n",
    "            }\n",
    "results_table = summary_col(results=[reg1,reg2,reg3,reg4,reg5],float_format='%0.2f',stars = True,\n",
    "                           model_names = ['Model1','Model2','Model3','Model4','Model5'],\n",
    "                           info_dict = info_dict,\n",
    "                           regressor_order = ['const','education_year','age','age2','s2','d2','d3','d4','d5','d6','d7','d8','d9','dA','m2','m3','m4']\n",
    "                           )\n",
    "results_table.add_title('Table 1 - OLS Regressions')\n",
    "print(results_table)"
   ]
  },
  {
   "cell_type": "code",
   "execution_count": null,
   "id": "5e5ffcde",
   "metadata": {},
   "outputs": [],
   "source": []
  }
 ],
 "metadata": {
  "kernelspec": {
   "display_name": "Python 3 (ipykernel)",
   "language": "python",
   "name": "python3"
  },
  "language_info": {
   "codemirror_mode": {
    "name": "ipython",
    "version": 3
   },
   "file_extension": ".py",
   "mimetype": "text/x-python",
   "name": "python",
   "nbconvert_exporter": "python",
   "pygments_lexer": "ipython3",
   "version": "3.9.7"
  }
 },
 "nbformat": 4,
 "nbformat_minor": 5
}
