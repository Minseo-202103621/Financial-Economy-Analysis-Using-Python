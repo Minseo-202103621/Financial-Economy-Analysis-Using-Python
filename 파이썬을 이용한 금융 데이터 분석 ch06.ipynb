{
 "cells": [
  {
   "cell_type": "code",
   "execution_count": 68,
   "id": "1e211147",
   "metadata": {},
   "outputs": [],
   "source": [
    "import pandas as pd\n",
    "import numpy as np"
   ]
  },
  {
   "cell_type": "code",
   "execution_count": 69,
   "id": "f1d7203b",
   "metadata": {},
   "outputs": [],
   "source": [
    "%matplotlib inline\n",
    "import seaborn as sns\n",
    "import matplotlib.pyplot as plt\n",
    "from matplotlib import rcParams\n",
    "from matplotlib import font_manager,rc\n",
    "rcParams['axes.unicode_minus'] = False\n",
    "#plt.rcParams['font,family'] = 'Malgun Gothic'\n",
    "font_name = font_manager.FontProperties(fname = 'c:/windows/Fonts/malgun.ttf').get_name()\n",
    "rc('font',family = font_name)"
   ]
  },
  {
   "cell_type": "code",
   "execution_count": 72,
   "id": "c5282690",
   "metadata": {},
   "outputs": [
    {
     "data": {
      "text/html": [
       "<div>\n",
       "<style scoped>\n",
       "    .dataframe tbody tr th:only-of-type {\n",
       "        vertical-align: middle;\n",
       "    }\n",
       "\n",
       "    .dataframe tbody tr th {\n",
       "        vertical-align: top;\n",
       "    }\n",
       "\n",
       "    .dataframe thead th {\n",
       "        text-align: right;\n",
       "    }\n",
       "</style>\n",
       "<table border=\"1\" class=\"dataframe\">\n",
       "  <thead>\n",
       "    <tr style=\"text-align: right;\">\n",
       "      <th></th>\n",
       "      <th>Unnamed: 0</th>\n",
       "      <th>year</th>\n",
       "      <th>metro</th>\n",
       "      <th>id</th>\n",
       "      <th>sex</th>\n",
       "      <th>age</th>\n",
       "      <th>number</th>\n",
       "      <th>education</th>\n",
       "      <th>marriage</th>\n",
       "      <th>asset</th>\n",
       "      <th>debt</th>\n",
       "      <th>income</th>\n",
       "      <th>industry</th>\n",
       "      <th>job</th>\n",
       "      <th>house</th>\n",
       "    </tr>\n",
       "  </thead>\n",
       "  <tbody>\n",
       "    <tr>\n",
       "      <th>0</th>\n",
       "      <td>0</td>\n",
       "      <td>2020</td>\n",
       "      <td>G1</td>\n",
       "      <td>10000112</td>\n",
       "      <td>1</td>\n",
       "      <td>34</td>\n",
       "      <td>3</td>\n",
       "      <td>6</td>\n",
       "      <td>2</td>\n",
       "      <td>112000</td>\n",
       "      <td>54500</td>\n",
       "      <td>4599</td>\n",
       "      <td>F</td>\n",
       "      <td>3</td>\n",
       "      <td>2</td>\n",
       "    </tr>\n",
       "    <tr>\n",
       "      <th>1</th>\n",
       "      <td>1</td>\n",
       "      <td>2020</td>\n",
       "      <td>G1</td>\n",
       "      <td>10000132</td>\n",
       "      <td>2</td>\n",
       "      <td>45</td>\n",
       "      <td>2</td>\n",
       "      <td>8</td>\n",
       "      <td>2</td>\n",
       "      <td>42500</td>\n",
       "      <td>17500</td>\n",
       "      <td>15257</td>\n",
       "      <td>J</td>\n",
       "      <td>2</td>\n",
       "      <td>3</td>\n",
       "    </tr>\n",
       "    <tr>\n",
       "      <th>2</th>\n",
       "      <td>2</td>\n",
       "      <td>2020</td>\n",
       "      <td>G1</td>\n",
       "      <td>10000162</td>\n",
       "      <td>2</td>\n",
       "      <td>73</td>\n",
       "      <td>1</td>\n",
       "      <td>2</td>\n",
       "      <td>3</td>\n",
       "      <td>5712</td>\n",
       "      <td>0</td>\n",
       "      <td>725</td>\n",
       "      <td>T</td>\n",
       "      <td>4</td>\n",
       "      <td>2</td>\n",
       "    </tr>\n",
       "    <tr>\n",
       "      <th>3</th>\n",
       "      <td>3</td>\n",
       "      <td>2020</td>\n",
       "      <td>G1</td>\n",
       "      <td>10000182</td>\n",
       "      <td>1</td>\n",
       "      <td>58</td>\n",
       "      <td>2</td>\n",
       "      <td>4</td>\n",
       "      <td>2</td>\n",
       "      <td>14870</td>\n",
       "      <td>0</td>\n",
       "      <td>2431</td>\n",
       "      <td>C</td>\n",
       "      <td>5</td>\n",
       "      <td>2</td>\n",
       "    </tr>\n",
       "    <tr>\n",
       "      <th>4</th>\n",
       "      <td>4</td>\n",
       "      <td>2020</td>\n",
       "      <td>G1</td>\n",
       "      <td>10000192</td>\n",
       "      <td>2</td>\n",
       "      <td>27</td>\n",
       "      <td>1</td>\n",
       "      <td>4</td>\n",
       "      <td>1</td>\n",
       "      <td>814</td>\n",
       "      <td>0</td>\n",
       "      <td>893</td>\n",
       "      <td>R</td>\n",
       "      <td>2</td>\n",
       "      <td>3</td>\n",
       "    </tr>\n",
       "    <tr>\n",
       "      <th>...</th>\n",
       "      <td>...</td>\n",
       "      <td>...</td>\n",
       "      <td>...</td>\n",
       "      <td>...</td>\n",
       "      <td>...</td>\n",
       "      <td>...</td>\n",
       "      <td>...</td>\n",
       "      <td>...</td>\n",
       "      <td>...</td>\n",
       "      <td>...</td>\n",
       "      <td>...</td>\n",
       "      <td>...</td>\n",
       "      <td>...</td>\n",
       "      <td>...</td>\n",
       "      <td>...</td>\n",
       "    </tr>\n",
       "    <tr>\n",
       "      <th>18059</th>\n",
       "      <td>18059</td>\n",
       "      <td>2020</td>\n",
       "      <td>G2</td>\n",
       "      <td>993800291</td>\n",
       "      <td>1</td>\n",
       "      <td>42</td>\n",
       "      <td>3</td>\n",
       "      <td>6</td>\n",
       "      <td>2</td>\n",
       "      <td>6705</td>\n",
       "      <td>2200</td>\n",
       "      <td>-390</td>\n",
       "      <td>NaN</td>\n",
       "      <td>NaN</td>\n",
       "      <td>3</td>\n",
       "    </tr>\n",
       "    <tr>\n",
       "      <th>18060</th>\n",
       "      <td>18060</td>\n",
       "      <td>2020</td>\n",
       "      <td>G2</td>\n",
       "      <td>994800251</td>\n",
       "      <td>1</td>\n",
       "      <td>49</td>\n",
       "      <td>5</td>\n",
       "      <td>6</td>\n",
       "      <td>2</td>\n",
       "      <td>130180</td>\n",
       "      <td>22000</td>\n",
       "      <td>11784</td>\n",
       "      <td>O</td>\n",
       "      <td>3</td>\n",
       "      <td>1</td>\n",
       "    </tr>\n",
       "    <tr>\n",
       "      <th>18061</th>\n",
       "      <td>18061</td>\n",
       "      <td>2020</td>\n",
       "      <td>G2</td>\n",
       "      <td>994800261</td>\n",
       "      <td>1</td>\n",
       "      <td>57</td>\n",
       "      <td>5</td>\n",
       "      <td>6</td>\n",
       "      <td>2</td>\n",
       "      <td>265226</td>\n",
       "      <td>29000</td>\n",
       "      <td>11560</td>\n",
       "      <td>NaN</td>\n",
       "      <td>NaN</td>\n",
       "      <td>1</td>\n",
       "    </tr>\n",
       "    <tr>\n",
       "      <th>18062</th>\n",
       "      <td>18062</td>\n",
       "      <td>2020</td>\n",
       "      <td>G2</td>\n",
       "      <td>994800291</td>\n",
       "      <td>2</td>\n",
       "      <td>53</td>\n",
       "      <td>2</td>\n",
       "      <td>7</td>\n",
       "      <td>4</td>\n",
       "      <td>109695</td>\n",
       "      <td>25000</td>\n",
       "      <td>7074</td>\n",
       "      <td>O</td>\n",
       "      <td>2</td>\n",
       "      <td>2</td>\n",
       "    </tr>\n",
       "    <tr>\n",
       "      <th>18063</th>\n",
       "      <td>18063</td>\n",
       "      <td>2020</td>\n",
       "      <td>G2</td>\n",
       "      <td>995800261</td>\n",
       "      <td>1</td>\n",
       "      <td>44</td>\n",
       "      <td>5</td>\n",
       "      <td>6</td>\n",
       "      <td>2</td>\n",
       "      <td>71223</td>\n",
       "      <td>13000</td>\n",
       "      <td>5404</td>\n",
       "      <td>C</td>\n",
       "      <td>3</td>\n",
       "      <td>1</td>\n",
       "    </tr>\n",
       "  </tbody>\n",
       "</table>\n",
       "<p>18064 rows × 15 columns</p>\n",
       "</div>"
      ],
      "text/plain": [
       "       Unnamed: 0  year metro         id  sex  age  number  education  \\\n",
       "0               0  2020    G1   10000112    1   34       3          6   \n",
       "1               1  2020    G1   10000132    2   45       2          8   \n",
       "2               2  2020    G1   10000162    2   73       1          2   \n",
       "3               3  2020    G1   10000182    1   58       2          4   \n",
       "4               4  2020    G1   10000192    2   27       1          4   \n",
       "...           ...   ...   ...        ...  ...  ...     ...        ...   \n",
       "18059       18059  2020    G2  993800291    1   42       3          6   \n",
       "18060       18060  2020    G2  994800251    1   49       5          6   \n",
       "18061       18061  2020    G2  994800261    1   57       5          6   \n",
       "18062       18062  2020    G2  994800291    2   53       2          7   \n",
       "18063       18063  2020    G2  995800261    1   44       5          6   \n",
       "\n",
       "       marriage   asset   debt  income industry  job  house  \n",
       "0             2  112000  54500    4599        F    3      2  \n",
       "1             2   42500  17500   15257        J    2      3  \n",
       "2             3    5712      0     725        T    4      2  \n",
       "3             2   14870      0    2431        C    5      2  \n",
       "4             1     814      0     893        R    2      3  \n",
       "...         ...     ...    ...     ...      ...  ...    ...  \n",
       "18059         2    6705   2200    -390      NaN  NaN      3  \n",
       "18060         2  130180  22000   11784        O    3      1  \n",
       "18061         2  265226  29000   11560      NaN  NaN      1  \n",
       "18062         4  109695  25000    7074        O    2      2  \n",
       "18063         2   71223  13000    5404        C    3      1  \n",
       "\n",
       "[18064 rows x 15 columns]"
      ]
     },
     "execution_count": 72,
     "metadata": {},
     "output_type": "execute_result"
    }
   ],
   "source": [
    "df10 = pd.read_csv(\"C:/Users/gksal/Downloads/2019_가구마스터_20230407_06298.csv\",encoding='cp949')\n",
    "df20 = pd.read_csv('household_2020a.csv')\n",
    "df10\n",
    "df20"
   ]
  },
  {
   "cell_type": "code",
   "execution_count": 73,
   "id": "6d9add10",
   "metadata": {},
   "outputs": [
    {
     "data": {
      "text/html": [
       "<div>\n",
       "<style scoped>\n",
       "    .dataframe tbody tr th:only-of-type {\n",
       "        vertical-align: middle;\n",
       "    }\n",
       "\n",
       "    .dataframe tbody tr th {\n",
       "        vertical-align: top;\n",
       "    }\n",
       "\n",
       "    .dataframe thead th {\n",
       "        text-align: right;\n",
       "    }\n",
       "</style>\n",
       "<table border=\"1\" class=\"dataframe\">\n",
       "  <thead>\n",
       "    <tr style=\"text-align: right;\">\n",
       "      <th></th>\n",
       "      <th>year</th>\n",
       "      <th>id</th>\n",
       "      <th>가중값</th>\n",
       "      <th>metro</th>\n",
       "      <th>sex</th>\n",
       "      <th>number</th>\n",
       "      <th>노인가구여부</th>\n",
       "      <th>조손가구여부</th>\n",
       "      <th>한부모가구여부</th>\n",
       "      <th>다문화가구여부(2012년~)</th>\n",
       "      <th>...</th>\n",
       "      <th>원리금상환_가계지출감소항목코드</th>\n",
       "      <th>부채상환가능시기코드</th>\n",
       "      <th>가구주_은퇴여부</th>\n",
       "      <th>가구주_미은퇴_은퇴연령</th>\n",
       "      <th>가구주_미은퇴_최소생활비</th>\n",
       "      <th>가구주_미은퇴_적정생활비</th>\n",
       "      <th>가구주_미은퇴_노후준비상황코드</th>\n",
       "      <th>가구주_은퇴_은퇴연령</th>\n",
       "      <th>가구주_은퇴_적정생활비충당여부</th>\n",
       "      <th>가구주은퇴_생활비재원마련코드(2014년~)</th>\n",
       "    </tr>\n",
       "  </thead>\n",
       "  <tbody>\n",
       "    <tr>\n",
       "      <th>18401</th>\n",
       "      <td>2019</td>\n",
       "      <td>994800291</td>\n",
       "      <td>565.417703</td>\n",
       "      <td>G2</td>\n",
       "      <td>2</td>\n",
       "      <td>1</td>\n",
       "      <td>G2</td>\n",
       "      <td>G2</td>\n",
       "      <td>G2</td>\n",
       "      <td>G2</td>\n",
       "      <td>...</td>\n",
       "      <td>NaN</td>\n",
       "      <td>NaN</td>\n",
       "      <td>1</td>\n",
       "      <td>65.0</td>\n",
       "      <td>150.0</td>\n",
       "      <td>200.0</td>\n",
       "      <td>3.0</td>\n",
       "      <td>NaN</td>\n",
       "      <td>NaN</td>\n",
       "      <td>NaN</td>\n",
       "    </tr>\n",
       "    <tr>\n",
       "      <th>18402</th>\n",
       "      <td>2019</td>\n",
       "      <td>995800211</td>\n",
       "      <td>393.813415</td>\n",
       "      <td>G2</td>\n",
       "      <td>1</td>\n",
       "      <td>4</td>\n",
       "      <td>G2</td>\n",
       "      <td>G2</td>\n",
       "      <td>G2</td>\n",
       "      <td>G2</td>\n",
       "      <td>...</td>\n",
       "      <td>NaN</td>\n",
       "      <td>1.0</td>\n",
       "      <td>1</td>\n",
       "      <td>60.0</td>\n",
       "      <td>300.0</td>\n",
       "      <td>500.0</td>\n",
       "      <td>3.0</td>\n",
       "      <td>NaN</td>\n",
       "      <td>NaN</td>\n",
       "      <td>NaN</td>\n",
       "    </tr>\n",
       "    <tr>\n",
       "      <th>18403</th>\n",
       "      <td>2019</td>\n",
       "      <td>995800231</td>\n",
       "      <td>631.065023</td>\n",
       "      <td>G2</td>\n",
       "      <td>1</td>\n",
       "      <td>3</td>\n",
       "      <td>G2</td>\n",
       "      <td>G2</td>\n",
       "      <td>G2</td>\n",
       "      <td>G2</td>\n",
       "      <td>...</td>\n",
       "      <td>2.0</td>\n",
       "      <td>1.0</td>\n",
       "      <td>1</td>\n",
       "      <td>60.0</td>\n",
       "      <td>300.0</td>\n",
       "      <td>500.0</td>\n",
       "      <td>2.0</td>\n",
       "      <td>NaN</td>\n",
       "      <td>NaN</td>\n",
       "      <td>NaN</td>\n",
       "    </tr>\n",
       "    <tr>\n",
       "      <th>18404</th>\n",
       "      <td>2019</td>\n",
       "      <td>995800251</td>\n",
       "      <td>391.223998</td>\n",
       "      <td>G2</td>\n",
       "      <td>2</td>\n",
       "      <td>2</td>\n",
       "      <td>G2</td>\n",
       "      <td>G2</td>\n",
       "      <td>G2</td>\n",
       "      <td>G2</td>\n",
       "      <td>...</td>\n",
       "      <td>NaN</td>\n",
       "      <td>NaN</td>\n",
       "      <td>1</td>\n",
       "      <td>70.0</td>\n",
       "      <td>200.0</td>\n",
       "      <td>200.0</td>\n",
       "      <td>3.0</td>\n",
       "      <td>NaN</td>\n",
       "      <td>NaN</td>\n",
       "      <td>NaN</td>\n",
       "    </tr>\n",
       "    <tr>\n",
       "      <th>18405</th>\n",
       "      <td>2019</td>\n",
       "      <td>995800261</td>\n",
       "      <td>781.810762</td>\n",
       "      <td>G2</td>\n",
       "      <td>1</td>\n",
       "      <td>5</td>\n",
       "      <td>G2</td>\n",
       "      <td>G2</td>\n",
       "      <td>G2</td>\n",
       "      <td>G2</td>\n",
       "      <td>...</td>\n",
       "      <td>2.0</td>\n",
       "      <td>1.0</td>\n",
       "      <td>1</td>\n",
       "      <td>60.0</td>\n",
       "      <td>200.0</td>\n",
       "      <td>300.0</td>\n",
       "      <td>3.0</td>\n",
       "      <td>NaN</td>\n",
       "      <td>NaN</td>\n",
       "      <td>NaN</td>\n",
       "    </tr>\n",
       "  </tbody>\n",
       "</table>\n",
       "<p>5 rows × 159 columns</p>\n",
       "</div>"
      ],
      "text/plain": [
       "       year         id         가중값 metro  sex  number 노인가구여부 조손가구여부 한부모가구여부  \\\n",
       "18401  2019  994800291  565.417703    G2    2       1     G2     G2      G2   \n",
       "18402  2019  995800211  393.813415    G2    1       4     G2     G2      G2   \n",
       "18403  2019  995800231  631.065023    G2    1       3     G2     G2      G2   \n",
       "18404  2019  995800251  391.223998    G2    2       2     G2     G2      G2   \n",
       "18405  2019  995800261  781.810762    G2    1       5     G2     G2      G2   \n",
       "\n",
       "      다문화가구여부(2012년~)  ... 원리금상환_가계지출감소항목코드  부채상환가능시기코드  가구주_은퇴여부  \\\n",
       "18401              G2  ...              NaN         NaN         1   \n",
       "18402              G2  ...              NaN         1.0         1   \n",
       "18403              G2  ...              2.0         1.0         1   \n",
       "18404              G2  ...              NaN         NaN         1   \n",
       "18405              G2  ...              2.0         1.0         1   \n",
       "\n",
       "      가구주_미은퇴_은퇴연령  가구주_미은퇴_최소생활비 가구주_미은퇴_적정생활비 가구주_미은퇴_노후준비상황코드  가구주_은퇴_은퇴연령  \\\n",
       "18401         65.0          150.0         200.0              3.0          NaN   \n",
       "18402         60.0          300.0         500.0              3.0          NaN   \n",
       "18403         60.0          300.0         500.0              2.0          NaN   \n",
       "18404         70.0          200.0         200.0              3.0          NaN   \n",
       "18405         60.0          200.0         300.0              3.0          NaN   \n",
       "\n",
       "      가구주_은퇴_적정생활비충당여부  가구주은퇴_생활비재원마련코드(2014년~)  \n",
       "18401              NaN                      NaN  \n",
       "18402              NaN                      NaN  \n",
       "18403              NaN                      NaN  \n",
       "18404              NaN                      NaN  \n",
       "18405              NaN                      NaN  \n",
       "\n",
       "[5 rows x 159 columns]"
      ]
     },
     "execution_count": 73,
     "metadata": {},
     "output_type": "execute_result"
    }
   ],
   "source": [
    "columns = [\"조사연도\", \"수도권여부\", \"MD제공용_가구고유번호\", \"가구주_성별코드\", \"가구주_만연령\",\n",
    "\"가구원수\", \"가구주_교육정도_학력코드\", '가구주_혼인상태코드',\"자산\",\"부채\", \"처분가능소득(보완)[경상소득(보완)-비소비지출(보완)]\", \"가구주_산업대분류코드\", \"가구주_직업대분류코드\", \"입주형태코드\"]\n",
    "df111 = df10[columns]\n",
    "df10.rename(columns={\"조사연도\":\"year\", \"MD제공용_가구고유번호\":\"id\", \"수도권여부\":\"metro\",  \n",
    "\"가구주_성별코드\":\"sex\", \"가구주_만연령\":\"age\", \"가구원수\":'number', \"가구주_교육정도_학력코드\":\"education\", '가구주_혼인상태코드':\"marriage\", \"자산\":'asset', \"부채\":\"debt\",\n",
    "\"처분가능소득(보완)[경상소득(보완)-비소비지출(보완)]\":\"income\", \"가구주_산업대분류코드\":\"industry\", \"가구주_직업대분류코드\":\"job\", \"입주형태코드\":\"house\"}, inplace=True)\n",
    "df10.tail()"
   ]
  },
  {
   "cell_type": "code",
   "execution_count": 75,
   "id": "8f1f14b8",
   "metadata": {},
   "outputs": [
    {
     "data": {
      "text/plain": [
       "Index(['Unnamed: 0', 'year', 'metro', 'id', 'sex', 'age', 'number',\n",
       "       'education', 'marriage', 'asset', 'debt', 'income', 'industry', 'job',\n",
       "       'house'],\n",
       "      dtype='object')"
      ]
     },
     "execution_count": 75,
     "metadata": {},
     "output_type": "execute_result"
    }
   ],
   "source": [
    "df20.columns"
   ]
  },
  {
   "cell_type": "code",
   "execution_count": 76,
   "id": "8bf61e70",
   "metadata": {},
   "outputs": [
    {
     "data": {
      "text/plain": [
       "Index(['year', 'id', '가중값', 'metro', 'sex', 'number', '노인가구여부', '조손가구여부',\n",
       "       '한부모가구여부', '다문화가구여부(2012년~)',\n",
       "       ...\n",
       "       '원리금상환_가계지출감소항목코드', '부채상환가능시기코드', '가구주_은퇴여부', '가구주_미은퇴_은퇴연령',\n",
       "       '가구주_미은퇴_최소생활비', '가구주_미은퇴_적정생활비', '가구주_미은퇴_노후준비상황코드', '가구주_은퇴_은퇴연령',\n",
       "       '가구주_은퇴_적정생활비충당여부', '가구주은퇴_생활비재원마련코드(2014년~)'],\n",
       "      dtype='object', length=159)"
      ]
     },
     "execution_count": 76,
     "metadata": {},
     "output_type": "execute_result"
    }
   ],
   "source": [
    "df10.columns"
   ]
  },
  {
   "cell_type": "code",
   "execution_count": 77,
   "id": "8143c920",
   "metadata": {},
   "outputs": [],
   "source": [
    "df11 = df10[['year','id','income']]\n",
    "df21 = df20[['year','id','age','sex','income']]"
   ]
  },
  {
   "cell_type": "code",
   "execution_count": 78,
   "id": "2255c660",
   "metadata": {},
   "outputs": [
    {
     "data": {
      "text/html": [
       "<div>\n",
       "<style scoped>\n",
       "    .dataframe tbody tr th:only-of-type {\n",
       "        vertical-align: middle;\n",
       "    }\n",
       "\n",
       "    .dataframe tbody tr th {\n",
       "        vertical-align: top;\n",
       "    }\n",
       "\n",
       "    .dataframe thead th {\n",
       "        text-align: right;\n",
       "    }\n",
       "</style>\n",
       "<table border=\"1\" class=\"dataframe\">\n",
       "  <thead>\n",
       "    <tr style=\"text-align: right;\">\n",
       "      <th></th>\n",
       "      <th>year_x</th>\n",
       "      <th>id</th>\n",
       "      <th>income_x</th>\n",
       "      <th>year_y</th>\n",
       "      <th>age</th>\n",
       "      <th>sex</th>\n",
       "      <th>income_y</th>\n",
       "    </tr>\n",
       "  </thead>\n",
       "  <tbody>\n",
       "    <tr>\n",
       "      <th>13907</th>\n",
       "      <td>2019</td>\n",
       "      <td>994800261</td>\n",
       "      <td>30982</td>\n",
       "      <td>2020</td>\n",
       "      <td>57</td>\n",
       "      <td>1</td>\n",
       "      <td>11560</td>\n",
       "    </tr>\n",
       "    <tr>\n",
       "      <th>13908</th>\n",
       "      <td>2019</td>\n",
       "      <td>994800291</td>\n",
       "      <td>5293</td>\n",
       "      <td>2020</td>\n",
       "      <td>53</td>\n",
       "      <td>2</td>\n",
       "      <td>7074</td>\n",
       "    </tr>\n",
       "    <tr>\n",
       "      <th>13909</th>\n",
       "      <td>2019</td>\n",
       "      <td>995800261</td>\n",
       "      <td>9022</td>\n",
       "      <td>2020</td>\n",
       "      <td>44</td>\n",
       "      <td>1</td>\n",
       "      <td>5404</td>\n",
       "    </tr>\n",
       "  </tbody>\n",
       "</table>\n",
       "</div>"
      ],
      "text/plain": [
       "       year_x         id  income_x  year_y  age  sex  income_y\n",
       "13907    2019  994800261     30982    2020   57    1     11560\n",
       "13908    2019  994800291      5293    2020   53    2      7074\n",
       "13909    2019  995800261      9022    2020   44    1      5404"
      ]
     },
     "execution_count": 78,
     "metadata": {},
     "output_type": "execute_result"
    }
   ],
   "source": [
    "df = pd.merge(df11,df21,on='id',how='inner')\n",
    "df.tail(3)"
   ]
  },
  {
   "cell_type": "code",
   "execution_count": 79,
   "id": "51e961aa",
   "metadata": {},
   "outputs": [
    {
     "name": "stderr",
     "output_type": "stream",
     "text": [
      "C:\\ProgramData\\Anaconda3\\lib\\site-packages\\pandas\\core\\frame.py:5039: SettingWithCopyWarning: \n",
      "A value is trying to be set on a copy of a slice from a DataFrame\n",
      "\n",
      "See the caveats in the documentation: https://pandas.pydata.org/pandas-docs/stable/user_guide/indexing.html#returning-a-view-versus-a-copy\n",
      "  return super().rename(\n",
      "C:\\Users\\gksal\\AppData\\Local\\Temp/ipykernel_21520/4018806484.py:4: SettingWithCopyWarning: \n",
      "A value is trying to be set on a copy of a slice from a DataFrame.\n",
      "Try using .loc[row_indexer,col_indexer] = value instead\n",
      "\n",
      "See the caveats in the documentation: https://pandas.pydata.org/pandas-docs/stable/user_guide/indexing.html#returning-a-view-versus-a-copy\n",
      "  df2['diff'] = df2['income2020'] - df2['income2019']\n"
     ]
    },
    {
     "data": {
      "text/html": [
       "<div>\n",
       "<style scoped>\n",
       "    .dataframe tbody tr th:only-of-type {\n",
       "        vertical-align: middle;\n",
       "    }\n",
       "\n",
       "    .dataframe tbody tr th {\n",
       "        vertical-align: top;\n",
       "    }\n",
       "\n",
       "    .dataframe thead th {\n",
       "        text-align: right;\n",
       "    }\n",
       "</style>\n",
       "<table border=\"1\" class=\"dataframe\">\n",
       "  <thead>\n",
       "    <tr style=\"text-align: right;\">\n",
       "      <th></th>\n",
       "      <th>sex</th>\n",
       "      <th>age</th>\n",
       "      <th>income2019</th>\n",
       "      <th>income2020</th>\n",
       "      <th>diff</th>\n",
       "    </tr>\n",
       "    <tr>\n",
       "      <th>id</th>\n",
       "      <th></th>\n",
       "      <th></th>\n",
       "      <th></th>\n",
       "      <th></th>\n",
       "      <th></th>\n",
       "    </tr>\n",
       "  </thead>\n",
       "  <tbody>\n",
       "    <tr>\n",
       "      <th>994800261</th>\n",
       "      <td>1</td>\n",
       "      <td>57</td>\n",
       "      <td>30982</td>\n",
       "      <td>11560</td>\n",
       "      <td>-19422</td>\n",
       "    </tr>\n",
       "    <tr>\n",
       "      <th>994800291</th>\n",
       "      <td>2</td>\n",
       "      <td>53</td>\n",
       "      <td>5293</td>\n",
       "      <td>7074</td>\n",
       "      <td>1781</td>\n",
       "    </tr>\n",
       "    <tr>\n",
       "      <th>995800261</th>\n",
       "      <td>1</td>\n",
       "      <td>44</td>\n",
       "      <td>9022</td>\n",
       "      <td>5404</td>\n",
       "      <td>-3618</td>\n",
       "    </tr>\n",
       "  </tbody>\n",
       "</table>\n",
       "</div>"
      ],
      "text/plain": [
       "           sex  age  income2019  income2020   diff\n",
       "id                                                \n",
       "994800261    1   57       30982       11560 -19422\n",
       "994800291    2   53        5293        7074   1781\n",
       "995800261    1   44        9022        5404  -3618"
      ]
     },
     "execution_count": 79,
     "metadata": {},
     "output_type": "execute_result"
    }
   ],
   "source": [
    "df1 = df.set_index('id')\n",
    "df2 = df1[['sex','age','income_x','income_y']]\n",
    "df2.rename(columns={'income_x':'income2019','income_y':'income2020'},inplace=True)\n",
    "df2['diff'] = df2['income2020'] - df2['income2019']\n",
    "df2.tail(3)"
   ]
  },
  {
   "cell_type": "markdown",
   "id": "76a7d68a",
   "metadata": {},
   "source": [
    "## 가구의 2019년2020년 소득 분포를 확률 히스토그램으로 보입니다"
   ]
  },
  {
   "cell_type": "code",
   "execution_count": 81,
   "id": "6325585b",
   "metadata": {},
   "outputs": [
    {
     "data": {
      "image/png": "[encoded data removed]",
      "text/plain": [
       "<Figure size 864x288 with 2 Axes>"
      ]
     },
     "metadata": {
      "needs_background": "light"
     },
     "output_type": "display_data"
    }
   ],
   "source": [
    "import seaborn as sns\n",
    "plt.rcParams['figure.figsize'] = (12,4)\n",
    "plt.rcParams['axes.grid'] = True\n",
    "fig,axs = plt.subplots(1,2)\n",
    "axs[0].set_title(\"가구별 2020년과 2019년 소득 차이\")\n",
    "sns.kdeplot(df2['diff'],shade = False, clip = (-7500,7500),ax=axs[0])\n",
    "axs[0].set_xlabel('만원')\n",
    "\n",
    "axs[1].set_title(\"가구별 2020년과 2019년 소득 분포\")\n",
    "sns.kdeplot(df2['income2019'],shade = False,clip=(-1000,20000),label=\"2019\",ax=axs[1])\n",
    "sns.kdeplot(df2['income2020'],shade = False,clip=(-1000,20000),label=\"2020\",ax=axs[1])\n",
    "axs[1].set_xlabel('만원')\n",
    "plt.legend(loc='upper right')\n",
    "plt.show()"
   ]
  },
  {
   "cell_type": "code",
   "execution_count": 82,
   "id": "850049b0",
   "metadata": {},
   "outputs": [
    {
     "data": {
      "text/plain": [
       "7.5"
      ]
     },
     "execution_count": 82,
     "metadata": {},
     "output_type": "execute_result"
    }
   ],
   "source": [
    "df3 = df2.copy()\n",
    "mn = df3['diff'].mean()\n",
    "std = df3['diff'].std()\n",
    "n = len(df3)\n",
    "se = std/np.sqrt(n)\n",
    "z = mn/se\n",
    "z.round(1)"
   ]
  },
  {
   "cell_type": "code",
   "execution_count": 83,
   "id": "9dae938c",
   "metadata": {},
   "outputs": [
    {
     "data": {
      "text/plain": [
       "0.0"
      ]
     },
     "execution_count": 83,
     "metadata": {},
     "output_type": "execute_result"
    }
   ],
   "source": [
    "import scipy as sp\n",
    "import scipy.stats\n",
    "rv = sp.stats.norm(loc=0,scale=1)\n",
    "np.round(1-rv.cdf(z),2)"
   ]
  },
  {
   "cell_type": "markdown",
   "id": "2efd1894",
   "metadata": {},
   "source": [
    "## 30대 1인 가구주 성별에 따른 소득 차이 검정"
   ]
  },
  {
   "cell_type": "code",
   "execution_count": 84,
   "id": "d8b08618",
   "metadata": {},
   "outputs": [
    {
     "data": {
      "text/html": [
       "<div>\n",
       "<style scoped>\n",
       "    .dataframe tbody tr th:only-of-type {\n",
       "        vertical-align: middle;\n",
       "    }\n",
       "\n",
       "    .dataframe tbody tr th {\n",
       "        vertical-align: top;\n",
       "    }\n",
       "\n",
       "    .dataframe thead th {\n",
       "        text-align: right;\n",
       "    }\n",
       "</style>\n",
       "<table border=\"1\" class=\"dataframe\">\n",
       "  <thead>\n",
       "    <tr style=\"text-align: right;\">\n",
       "      <th></th>\n",
       "      <th>sex</th>\n",
       "      <th>number</th>\n",
       "      <th>age</th>\n",
       "      <th>income</th>\n",
       "    </tr>\n",
       "  </thead>\n",
       "  <tbody>\n",
       "    <tr>\n",
       "      <th>17599</th>\n",
       "      <td>2</td>\n",
       "      <td>1</td>\n",
       "      <td>37</td>\n",
       "      <td>4603</td>\n",
       "    </tr>\n",
       "    <tr>\n",
       "      <th>17696</th>\n",
       "      <td>1</td>\n",
       "      <td>1</td>\n",
       "      <td>37</td>\n",
       "      <td>1122</td>\n",
       "    </tr>\n",
       "    <tr>\n",
       "      <th>18014</th>\n",
       "      <td>2</td>\n",
       "      <td>1</td>\n",
       "      <td>34</td>\n",
       "      <td>4618</td>\n",
       "    </tr>\n",
       "  </tbody>\n",
       "</table>\n",
       "</div>"
      ],
      "text/plain": [
       "       sex  number  age  income\n",
       "17599    2       1   37    4603\n",
       "17696    1       1   37    1122\n",
       "18014    2       1   34    4618"
      ]
     },
     "execution_count": 84,
     "metadata": {},
     "output_type": "execute_result"
    }
   ],
   "source": [
    "df = pd.read_csv(\"household_2020a.csv\")\n",
    "df1 = df.loc[df['number'].isin([1])&(df['age']>30) & (df['age']<40)] # 30대 1인 가구 선택\n",
    "df2 = df1[['sex','number','age','income']]\n",
    "df2.tail(3)"
   ]
  },
  {
   "cell_type": "markdown",
   "id": "463d917f",
   "metadata": {},
   "source": [
    "### 30대 1인 가구주의 소득 분포를 남자와 여자로 구분하여 보입니다"
   ]
  },
  {
   "cell_type": "code",
   "execution_count": 86,
   "id": "4c785bf2",
   "metadata": {},
   "outputs": [
    {
     "data": {
      "image/png": "[encoded data removed]",
      "text/plain": [
       "<Figure size 864x288 with 1 Axes>"
      ]
     },
     "metadata": {
      "needs_background": "light"
     },
     "output_type": "display_data"
    }
   ],
   "source": [
    "import seaborn as sns\n",
    "df21 = df2.loc[df2['sex'].isin([1])] # 남자\n",
    "df22 = df2.loc[df2['sex'].isin([2])]\n",
    "sns.kdeplot(df21['income'],shade=True,label='남자',clip=(-1000,20000))\n",
    "sns.kdeplot(df22['income'],shade=True,label='여자',clip=(-1000,20000))\n",
    "plt.xlabel('만원')\n",
    "plt.legend()\n",
    "plt.grid(True)\n",
    "plt.show()"
   ]
  },
  {
   "cell_type": "markdown",
   "id": "8bbcf497",
   "metadata": {},
   "source": [
    "## Z 통계량 구하기"
   ]
  },
  {
   "cell_type": "code",
   "execution_count": 87,
   "id": "9e0944e6",
   "metadata": {},
   "outputs": [
    {
     "data": {
      "text/html": [
       "<div>\n",
       "<style scoped>\n",
       "    .dataframe tbody tr th:only-of-type {\n",
       "        vertical-align: middle;\n",
       "    }\n",
       "\n",
       "    .dataframe tbody tr th {\n",
       "        vertical-align: top;\n",
       "    }\n",
       "\n",
       "    .dataframe thead tr th {\n",
       "        text-align: left;\n",
       "    }\n",
       "\n",
       "    .dataframe thead tr:last-of-type th {\n",
       "        text-align: right;\n",
       "    }\n",
       "</style>\n",
       "<table border=\"1\" class=\"dataframe\">\n",
       "  <thead>\n",
       "    <tr>\n",
       "      <th></th>\n",
       "      <th colspan=\"3\" halign=\"left\">income</th>\n",
       "    </tr>\n",
       "    <tr>\n",
       "      <th></th>\n",
       "      <th>mean</th>\n",
       "      <th>std</th>\n",
       "      <th>count</th>\n",
       "    </tr>\n",
       "    <tr>\n",
       "      <th>sex</th>\n",
       "      <th></th>\n",
       "      <th></th>\n",
       "      <th></th>\n",
       "    </tr>\n",
       "  </thead>\n",
       "  <tbody>\n",
       "    <tr>\n",
       "      <th>1</th>\n",
       "      <td>3098.597156</td>\n",
       "      <td>1947.776724</td>\n",
       "      <td>211</td>\n",
       "    </tr>\n",
       "    <tr>\n",
       "      <th>2</th>\n",
       "      <td>2743.759398</td>\n",
       "      <td>1865.068730</td>\n",
       "      <td>133</td>\n",
       "    </tr>\n",
       "  </tbody>\n",
       "</table>\n",
       "</div>"
      ],
      "text/plain": [
       "          income                   \n",
       "            mean          std count\n",
       "sex                                \n",
       "1    3098.597156  1947.776724   211\n",
       "2    2743.759398  1865.068730   133"
      ]
     },
     "execution_count": 87,
     "metadata": {},
     "output_type": "execute_result"
    }
   ],
   "source": [
    "df3 = df2[['income']].groupby(df2['sex']).agg(['mean','std','count'])\n",
    "df3"
   ]
  },
  {
   "cell_type": "code",
   "execution_count": 88,
   "id": "e8ac530d",
   "metadata": {},
   "outputs": [
    {
     "data": {
      "text/plain": [
       "354.84"
      ]
     },
     "execution_count": 88,
     "metadata": {},
     "output_type": "execute_result"
    }
   ],
   "source": [
    "mean = df3[('income','mean')]\n",
    "mean_df = mean[1]-mean[2]\n",
    "np.round(mean_df,2)"
   ]
  },
  {
   "cell_type": "code",
   "execution_count": 92,
   "id": "69da8668",
   "metadata": {},
   "outputs": [
    {
     "data": {
      "text/plain": [
       "189.63"
      ]
     },
     "execution_count": 92,
     "metadata": {},
     "output_type": "execute_result"
    }
   ],
   "source": [
    "std = df3[('income','std')]\n",
    "count = df3[('income','count')]\n",
    "se1 = std[1] / np.sqrt(count[1])\n",
    "se2 = std[1] / np.sqrt(count[1])\n",
    "tot_se = np.sqrt(se1**2 + se2**2)\n",
    "np.round(tot_se,2)"
   ]
  },
  {
   "cell_type": "code",
   "execution_count": 93,
   "id": "20908183",
   "metadata": {},
   "outputs": [
    {
     "data": {
      "text/plain": [
       "1.87"
      ]
     },
     "execution_count": 93,
     "metadata": {},
     "output_type": "execute_result"
    }
   ],
   "source": [
    "z = mean_df/tot_se\n",
    "round(z,2)"
   ]
  },
  {
   "cell_type": "code",
   "execution_count": 94,
   "id": "2a89ee67",
   "metadata": {},
   "outputs": [
    {
     "data": {
      "text/plain": [
       "0.03"
      ]
     },
     "execution_count": 94,
     "metadata": {},
     "output_type": "execute_result"
    }
   ],
   "source": [
    "import scipy as sp\n",
    "import scipy.stats\n",
    "rv = sp.stats.norm(loc=0,scale=1)\n",
    "np.round(1-rv.cdf(z),2)"
   ]
  },
  {
   "cell_type": "markdown",
   "id": "63343499",
   "metadata": {},
   "source": [
    "## 성별,직업군별 소득 차이 검정"
   ]
  },
  {
   "cell_type": "code",
   "execution_count": 96,
   "id": "c7278d10",
   "metadata": {},
   "outputs": [],
   "source": [
    "import pandas as pd\n",
    "import numpy as np\n",
    "%matplotlib inline\n",
    "import matplotlib.pyplot as plt\n",
    "from scipy.stats import chi2\n",
    "import scipy.stats as stats\n",
    "import random"
   ]
  },
  {
   "cell_type": "markdown",
   "id": "da6beb63",
   "metadata": {},
   "source": [
    "## x**2 분포 이해하기"
   ]
  },
  {
   "cell_type": "code",
   "execution_count": 99,
   "id": "33b5faad",
   "metadata": {},
   "outputs": [
    {
     "data": {
      "text/plain": [
       "0.44"
      ]
     },
     "execution_count": 99,
     "metadata": {},
     "output_type": "execute_result"
    }
   ],
   "source": [
    "DoF = 5\n",
    "p_value = 1- stats.chi2.cdf(4.8,DoF)\n",
    "np.round(p_value,2)"
   ]
  },
  {
   "cell_type": "markdown",
   "id": "c1f8b3d6",
   "metadata": {},
   "source": [
    "## 모의실험으로 x**2 분포 구하기"
   ]
  },
  {
   "cell_type": "code",
   "execution_count": 103,
   "id": "edd85f1b",
   "metadata": {},
   "outputs": [],
   "source": [
    "def rolldie():\n",
    "    one = 0; two=0;three=0;four=0;five=0;six=0\n",
    "    \n",
    "    for i in range(60):\n",
    "        roll = random.choice([1,2,3,4,5,6])\n",
    "        if roll == 1:\n",
    "            one = one + 1\n",
    "        elif roll == 2:\n",
    "            two += 1\n",
    "        elif roll == 3:\n",
    "            three += 1\n",
    "        elif roll == 4:\n",
    "            four += 1\n",
    "        elif roll == 5:\n",
    "            five += 1\n",
    "        elif roll == 6:\n",
    "            six += 1\n",
    "    return [one,two,three,four,five,six]"
   ]
  },
  {
   "cell_type": "code",
   "execution_count": 106,
   "id": "74012b51",
   "metadata": {},
   "outputs": [
    {
     "data": {
      "text/plain": [
       "[6, 12, 12, 10, 8, 12]"
      ]
     },
     "execution_count": 106,
     "metadata": {},
     "output_type": "execute_result"
    }
   ],
   "source": [
    "rolldie()"
   ]
  },
  {
   "cell_type": "code",
   "execution_count": 107,
   "id": "7ca1028a",
   "metadata": {},
   "outputs": [
    {
     "data": {
      "text/plain": [
       "[0.4, 10.0, 10.2, 8.8, 4.0, 4.4, 2.4, 9.0, 6.6, 6.6]"
      ]
     },
     "execution_count": 107,
     "metadata": {},
     "output_type": "execute_result"
    }
   ],
   "source": [
    "def simulate(n):\n",
    "    chi2 = []\n",
    "    for i in range(n):\n",
    "        die = rolldie()\n",
    "        distance = (((die[0]-10)**2) + ((die[1]-10)**2) + ((die[2]-10)**2) + ((die[3]-10)**2) + ((die[4]-10)**2) + ((die[5]-10)**2))/10\n",
    "        \n",
    "        chi2.append(distance)\n",
    "    return(chi2)\n",
    "simulate(10)"
   ]
  },
  {
   "cell_type": "code",
   "execution_count": 110,
   "id": "7b4b74bb",
   "metadata": {},
   "outputs": [
    {
     "data": {
      "text/plain": [
       "<function matplotlib.pyplot.show(close=None, block=None)>"
      ]
     },
     "execution_count": 110,
     "metadata": {},
     "output_type": "execute_result"
    },
    {
     "data": {
      "image/png": "[encoded data removed]",
      "text/plain": [
       "<Figure size 720x432 with 1 Axes>"
      ]
     },
     "metadata": {
      "needs_background": "light"
     },
     "output_type": "display_data"
    }
   ],
   "source": [
    "fig,ax = plt.subplots(figsize = (10,6))\n",
    "x = simulate(500000)\n",
    "ax.hist(x,alpha=0.7,bins=500)\n",
    "ax.set_xlim(0,max(x))\n",
    "ax.grid()\n",
    "plt.show"
   ]
  },
  {
   "cell_type": "code",
   "execution_count": 111,
   "id": "a55f30d5",
   "metadata": {},
   "outputs": [
    {
     "data": {
      "text/plain": [
       "11.0"
      ]
     },
     "execution_count": 111,
     "metadata": {},
     "output_type": "execute_result"
    }
   ],
   "source": [
    "np.percentile(x,95)\n"
   ]
  },
  {
   "cell_type": "code",
   "execution_count": 113,
   "id": "d1d57288",
   "metadata": {},
   "outputs": [
    {
     "data": {
      "text/plain": [
       "0.95"
      ]
     },
     "execution_count": 113,
     "metadata": {},
     "output_type": "execute_result"
    }
   ],
   "source": [
    "DoF = 5\n",
    "np.round(stats.chi2.cdf(11.0,DoF),2)"
   ]
  },
  {
   "cell_type": "markdown",
   "id": "0c462ef9",
   "metadata": {},
   "source": [
    "## 성별,직업군별 소득 차이 검정"
   ]
  },
  {
   "cell_type": "code",
   "execution_count": 114,
   "id": "a054eaea",
   "metadata": {},
   "outputs": [],
   "source": [
    "import pandas as pd\n",
    "import numpy as np\n",
    "pd.options.display.float_format = '{:,.1f}'.format"
   ]
  },
  {
   "cell_type": "code",
   "execution_count": 115,
   "id": "2226c9ae",
   "metadata": {},
   "outputs": [],
   "source": [
    "df = pd.read_csv(\"household_2020a.csv\")\n",
    "df1 = df[[\"sex\",\"job\"]]\n",
    "df1 = df1.dropna()"
   ]
  },
  {
   "cell_type": "code",
   "execution_count": 116,
   "id": "9e4394e7",
   "metadata": {},
   "outputs": [
    {
     "data": {
      "text/html": [
       "<div>\n",
       "<style scoped>\n",
       "    .dataframe tbody tr th:only-of-type {\n",
       "        vertical-align: middle;\n",
       "    }\n",
       "\n",
       "    .dataframe tbody tr th {\n",
       "        vertical-align: top;\n",
       "    }\n",
       "\n",
       "    .dataframe thead th {\n",
       "        text-align: right;\n",
       "    }\n",
       "</style>\n",
       "<table border=\"1\" class=\"dataframe\">\n",
       "  <thead>\n",
       "    <tr style=\"text-align: right;\">\n",
       "      <th>job</th>\n",
       "      <th>1</th>\n",
       "      <th>2</th>\n",
       "      <th>3</th>\n",
       "      <th>4</th>\n",
       "      <th>5</th>\n",
       "      <th>6</th>\n",
       "      <th>7</th>\n",
       "      <th>8</th>\n",
       "      <th>9</th>\n",
       "      <th>All</th>\n",
       "    </tr>\n",
       "    <tr>\n",
       "      <th>sex</th>\n",
       "      <th></th>\n",
       "      <th></th>\n",
       "      <th></th>\n",
       "      <th></th>\n",
       "      <th></th>\n",
       "      <th></th>\n",
       "      <th></th>\n",
       "      <th></th>\n",
       "      <th></th>\n",
       "      <th></th>\n",
       "    </tr>\n",
       "  </thead>\n",
       "  <tbody>\n",
       "    <tr>\n",
       "      <th>1</th>\n",
       "      <td>316</td>\n",
       "      <td>1623</td>\n",
       "      <td>1644</td>\n",
       "      <td>558</td>\n",
       "      <td>882</td>\n",
       "      <td>1020</td>\n",
       "      <td>1379</td>\n",
       "      <td>1832</td>\n",
       "      <td>1318</td>\n",
       "      <td>10572</td>\n",
       "    </tr>\n",
       "    <tr>\n",
       "      <th>2</th>\n",
       "      <td>12</td>\n",
       "      <td>420</td>\n",
       "      <td>315</td>\n",
       "      <td>601</td>\n",
       "      <td>323</td>\n",
       "      <td>197</td>\n",
       "      <td>76</td>\n",
       "      <td>87</td>\n",
       "      <td>586</td>\n",
       "      <td>2617</td>\n",
       "    </tr>\n",
       "    <tr>\n",
       "      <th>All</th>\n",
       "      <td>328</td>\n",
       "      <td>2043</td>\n",
       "      <td>1959</td>\n",
       "      <td>1159</td>\n",
       "      <td>1205</td>\n",
       "      <td>1217</td>\n",
       "      <td>1455</td>\n",
       "      <td>1919</td>\n",
       "      <td>1904</td>\n",
       "      <td>13189</td>\n",
       "    </tr>\n",
       "  </tbody>\n",
       "</table>\n",
       "</div>"
      ],
      "text/plain": [
       "job    1     2     3     4     5     6     7     8     9    All\n",
       "sex                                                            \n",
       "1    316  1623  1644   558   882  1020  1379  1832  1318  10572\n",
       "2     12   420   315   601   323   197    76    87   586   2617\n",
       "All  328  2043  1959  1159  1205  1217  1455  1919  1904  13189"
      ]
     },
     "execution_count": 116,
     "metadata": {},
     "output_type": "execute_result"
    }
   ],
   "source": [
    "df2 = df1.drop(df1[(df1.job==\"A\")].index)  # 군인 직업군 제외\n",
    "\n",
    "cross_tab1 = pd.crosstab(df2.sex,df2.job,margins = True)  # 성별 관측도수\n",
    "cross_tab1"
   ]
  },
  {
   "cell_type": "code",
   "execution_count": 117,
   "id": "c181cb5e",
   "metadata": {},
   "outputs": [],
   "source": [
    "tot = cross_tab1.iloc[-1,1] # total\n",
    "\n",
    "j1 = cross_tab1.iloc[-1,0]\n",
    "j2 = cross_tab1.iloc[-1,1]\n",
    "j3 = cross_tab1.iloc[-1,2]\n",
    "j4 = cross_tab1.iloc[-1,3]\n",
    "j5 = cross_tab1.iloc[-1,4]\n",
    "j6 = cross_tab1.iloc[-1,5]\n",
    "j7 = cross_tab1.iloc[-1,6]\n",
    "j8 = cross_tab1.iloc[-1,7]\n",
    "j9 = cross_tab1.iloc[-1,8]\n",
    "\n",
    "s1 = cross_tab1.iloc[0,-1]\n",
    "s2 = cross_tab1.iloc[1,-1]"
   ]
  },
  {
   "cell_type": "code",
   "execution_count": null,
   "id": "bbb6f9c6",
   "metadata": {},
   "outputs": [],
   "source": []
  }
 ],
 "metadata": {
  "kernelspec": {
   "display_name": "Python 3 (ipykernel)",
   "language": "python",
   "name": "python3"
  },
  "language_info": {
   "codemirror_mode": {
    "name": "ipython",
    "version": 3
   },
   "file_extension": ".py",
   "mimetype": "text/x-python",
   "name": "python",
   "nbconvert_exporter": "python",
   "pygments_lexer": "ipython3",
   "version": "3.9.7"
  }
 },
 "nbformat": 4,
 "nbformat_minor": 5
}
