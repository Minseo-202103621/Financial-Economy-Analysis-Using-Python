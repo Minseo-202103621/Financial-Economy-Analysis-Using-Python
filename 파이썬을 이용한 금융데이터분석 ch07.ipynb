{
 "cells": [
  {
   "cell_type": "code",
   "execution_count": 1,
   "id": "135bd169",
   "metadata": {},
   "outputs": [],
   "source": [
    "import pandas as pd\n",
    "import numpy as np\n",
    "import math\n"
   ]
  },
  {
   "cell_type": "code",
   "execution_count": 6,
   "id": "76ad9d5b",
   "metadata": {},
   "outputs": [
    {
     "data": {
      "text/html": [
       "<div>\n",
       "<style scoped>\n",
       "    .dataframe tbody tr th:only-of-type {\n",
       "        vertical-align: middle;\n",
       "    }\n",
       "\n",
       "    .dataframe tbody tr th {\n",
       "        vertical-align: top;\n",
       "    }\n",
       "\n",
       "    .dataframe thead th {\n",
       "        text-align: right;\n",
       "    }\n",
       "</style>\n",
       "<table border=\"1\" class=\"dataframe\">\n",
       "  <thead>\n",
       "    <tr style=\"text-align: right;\">\n",
       "      <th></th>\n",
       "      <th>year</th>\n",
       "      <th>metro</th>\n",
       "      <th>id</th>\n",
       "      <th>sex</th>\n",
       "      <th>age</th>\n",
       "      <th>number</th>\n",
       "      <th>education</th>\n",
       "      <th>marriage</th>\n",
       "      <th>asset</th>\n",
       "      <th>debt</th>\n",
       "      <th>income</th>\n",
       "      <th>industry</th>\n",
       "      <th>job</th>\n",
       "      <th>house</th>\n",
       "    </tr>\n",
       "  </thead>\n",
       "  <tbody>\n",
       "    <tr>\n",
       "      <th>0</th>\n",
       "      <td>2020</td>\n",
       "      <td>G1</td>\n",
       "      <td>10000112</td>\n",
       "      <td>1</td>\n",
       "      <td>34</td>\n",
       "      <td>3</td>\n",
       "      <td>6</td>\n",
       "      <td>2</td>\n",
       "      <td>112000</td>\n",
       "      <td>54500</td>\n",
       "      <td>4599</td>\n",
       "      <td>F</td>\n",
       "      <td>3</td>\n",
       "      <td>2</td>\n",
       "    </tr>\n",
       "    <tr>\n",
       "      <th>1</th>\n",
       "      <td>2020</td>\n",
       "      <td>G1</td>\n",
       "      <td>10000132</td>\n",
       "      <td>2</td>\n",
       "      <td>45</td>\n",
       "      <td>2</td>\n",
       "      <td>8</td>\n",
       "      <td>2</td>\n",
       "      <td>42500</td>\n",
       "      <td>17500</td>\n",
       "      <td>15257</td>\n",
       "      <td>J</td>\n",
       "      <td>2</td>\n",
       "      <td>3</td>\n",
       "    </tr>\n",
       "    <tr>\n",
       "      <th>2</th>\n",
       "      <td>2020</td>\n",
       "      <td>G1</td>\n",
       "      <td>10000162</td>\n",
       "      <td>2</td>\n",
       "      <td>73</td>\n",
       "      <td>1</td>\n",
       "      <td>2</td>\n",
       "      <td>3</td>\n",
       "      <td>5712</td>\n",
       "      <td>0</td>\n",
       "      <td>725</td>\n",
       "      <td>T</td>\n",
       "      <td>4</td>\n",
       "      <td>2</td>\n",
       "    </tr>\n",
       "    <tr>\n",
       "      <th>3</th>\n",
       "      <td>2020</td>\n",
       "      <td>G1</td>\n",
       "      <td>10000182</td>\n",
       "      <td>1</td>\n",
       "      <td>58</td>\n",
       "      <td>2</td>\n",
       "      <td>4</td>\n",
       "      <td>2</td>\n",
       "      <td>14870</td>\n",
       "      <td>0</td>\n",
       "      <td>2431</td>\n",
       "      <td>C</td>\n",
       "      <td>5</td>\n",
       "      <td>2</td>\n",
       "    </tr>\n",
       "    <tr>\n",
       "      <th>4</th>\n",
       "      <td>2020</td>\n",
       "      <td>G1</td>\n",
       "      <td>10000192</td>\n",
       "      <td>2</td>\n",
       "      <td>27</td>\n",
       "      <td>1</td>\n",
       "      <td>4</td>\n",
       "      <td>1</td>\n",
       "      <td>814</td>\n",
       "      <td>0</td>\n",
       "      <td>893</td>\n",
       "      <td>R</td>\n",
       "      <td>2</td>\n",
       "      <td>3</td>\n",
       "    </tr>\n",
       "    <tr>\n",
       "      <th>...</th>\n",
       "      <td>...</td>\n",
       "      <td>...</td>\n",
       "      <td>...</td>\n",
       "      <td>...</td>\n",
       "      <td>...</td>\n",
       "      <td>...</td>\n",
       "      <td>...</td>\n",
       "      <td>...</td>\n",
       "      <td>...</td>\n",
       "      <td>...</td>\n",
       "      <td>...</td>\n",
       "      <td>...</td>\n",
       "      <td>...</td>\n",
       "      <td>...</td>\n",
       "    </tr>\n",
       "    <tr>\n",
       "      <th>18059</th>\n",
       "      <td>2020</td>\n",
       "      <td>G2</td>\n",
       "      <td>993800291</td>\n",
       "      <td>1</td>\n",
       "      <td>42</td>\n",
       "      <td>3</td>\n",
       "      <td>6</td>\n",
       "      <td>2</td>\n",
       "      <td>6705</td>\n",
       "      <td>2200</td>\n",
       "      <td>-390</td>\n",
       "      <td>NaN</td>\n",
       "      <td>NaN</td>\n",
       "      <td>3</td>\n",
       "    </tr>\n",
       "    <tr>\n",
       "      <th>18060</th>\n",
       "      <td>2020</td>\n",
       "      <td>G2</td>\n",
       "      <td>994800251</td>\n",
       "      <td>1</td>\n",
       "      <td>49</td>\n",
       "      <td>5</td>\n",
       "      <td>6</td>\n",
       "      <td>2</td>\n",
       "      <td>130180</td>\n",
       "      <td>22000</td>\n",
       "      <td>11784</td>\n",
       "      <td>O</td>\n",
       "      <td>3</td>\n",
       "      <td>1</td>\n",
       "    </tr>\n",
       "    <tr>\n",
       "      <th>18061</th>\n",
       "      <td>2020</td>\n",
       "      <td>G2</td>\n",
       "      <td>994800261</td>\n",
       "      <td>1</td>\n",
       "      <td>57</td>\n",
       "      <td>5</td>\n",
       "      <td>6</td>\n",
       "      <td>2</td>\n",
       "      <td>265226</td>\n",
       "      <td>29000</td>\n",
       "      <td>11560</td>\n",
       "      <td>NaN</td>\n",
       "      <td>NaN</td>\n",
       "      <td>1</td>\n",
       "    </tr>\n",
       "    <tr>\n",
       "      <th>18062</th>\n",
       "      <td>2020</td>\n",
       "      <td>G2</td>\n",
       "      <td>994800291</td>\n",
       "      <td>2</td>\n",
       "      <td>53</td>\n",
       "      <td>2</td>\n",
       "      <td>7</td>\n",
       "      <td>4</td>\n",
       "      <td>109695</td>\n",
       "      <td>25000</td>\n",
       "      <td>7074</td>\n",
       "      <td>O</td>\n",
       "      <td>2</td>\n",
       "      <td>2</td>\n",
       "    </tr>\n",
       "    <tr>\n",
       "      <th>18063</th>\n",
       "      <td>2020</td>\n",
       "      <td>G2</td>\n",
       "      <td>995800261</td>\n",
       "      <td>1</td>\n",
       "      <td>44</td>\n",
       "      <td>5</td>\n",
       "      <td>6</td>\n",
       "      <td>2</td>\n",
       "      <td>71223</td>\n",
       "      <td>13000</td>\n",
       "      <td>5404</td>\n",
       "      <td>C</td>\n",
       "      <td>3</td>\n",
       "      <td>1</td>\n",
       "    </tr>\n",
       "  </tbody>\n",
       "</table>\n",
       "<p>18064 rows × 14 columns</p>\n",
       "</div>"
      ],
      "text/plain": [
       "       year metro         id  sex  age  number  education  marriage   asset  \\\n",
       "0      2020    G1   10000112    1   34       3          6         2  112000   \n",
       "1      2020    G1   10000132    2   45       2          8         2   42500   \n",
       "2      2020    G1   10000162    2   73       1          2         3    5712   \n",
       "3      2020    G1   10000182    1   58       2          4         2   14870   \n",
       "4      2020    G1   10000192    2   27       1          4         1     814   \n",
       "...     ...   ...        ...  ...  ...     ...        ...       ...     ...   \n",
       "18059  2020    G2  993800291    1   42       3          6         2    6705   \n",
       "18060  2020    G2  994800251    1   49       5          6         2  130180   \n",
       "18061  2020    G2  994800261    1   57       5          6         2  265226   \n",
       "18062  2020    G2  994800291    2   53       2          7         4  109695   \n",
       "18063  2020    G2  995800261    1   44       5          6         2   71223   \n",
       "\n",
       "        debt  income industry  job  house  \n",
       "0      54500    4599        F    3      2  \n",
       "1      17500   15257        J    2      3  \n",
       "2          0     725        T    4      2  \n",
       "3          0    2431        C    5      2  \n",
       "4          0     893        R    2      3  \n",
       "...      ...     ...      ...  ...    ...  \n",
       "18059   2200    -390      NaN  NaN      3  \n",
       "18060  22000   11784        O    3      1  \n",
       "18061  29000   11560      NaN  NaN      1  \n",
       "18062  25000    7074        O    2      2  \n",
       "18063  13000    5404        C    3      1  \n",
       "\n",
       "[18064 rows x 14 columns]"
      ]
     },
     "execution_count": 6,
     "metadata": {},
     "output_type": "execute_result"
    }
   ],
   "source": [
    "df = pd.read_csv(\"household_2020a.csv\")\n",
    "df.rename(columns={\"income_d\":\"income\"},inplace=True)\n",
    "df"
   ]
  },
  {
   "cell_type": "code",
   "execution_count": 7,
   "id": "d4c04ec5",
   "metadata": {},
   "outputs": [],
   "source": [
    "df.to_csv('household_2020a.csv')"
   ]
  },
  {
   "cell_type": "code",
   "execution_count": 8,
   "id": "22e91b4f",
   "metadata": {},
   "outputs": [
    {
     "data": {
      "text/html": [
       "<div>\n",
       "<style scoped>\n",
       "    .dataframe tbody tr th:only-of-type {\n",
       "        vertical-align: middle;\n",
       "    }\n",
       "\n",
       "    .dataframe tbody tr th {\n",
       "        vertical-align: top;\n",
       "    }\n",
       "\n",
       "    .dataframe thead th {\n",
       "        text-align: right;\n",
       "    }\n",
       "</style>\n",
       "<table border=\"1\" class=\"dataframe\">\n",
       "  <thead>\n",
       "    <tr style=\"text-align: right;\">\n",
       "      <th></th>\n",
       "      <th>Unnamed: 0</th>\n",
       "      <th>year</th>\n",
       "      <th>metro</th>\n",
       "      <th>id</th>\n",
       "      <th>sex</th>\n",
       "      <th>age</th>\n",
       "      <th>number</th>\n",
       "      <th>education</th>\n",
       "      <th>marriage</th>\n",
       "      <th>asset</th>\n",
       "      <th>debt</th>\n",
       "      <th>income</th>\n",
       "      <th>industry</th>\n",
       "      <th>job</th>\n",
       "      <th>house</th>\n",
       "    </tr>\n",
       "  </thead>\n",
       "  <tbody>\n",
       "    <tr>\n",
       "      <th>0</th>\n",
       "      <td>0</td>\n",
       "      <td>2020</td>\n",
       "      <td>G1</td>\n",
       "      <td>10000112</td>\n",
       "      <td>1</td>\n",
       "      <td>34</td>\n",
       "      <td>3</td>\n",
       "      <td>6</td>\n",
       "      <td>2</td>\n",
       "      <td>112000</td>\n",
       "      <td>54500</td>\n",
       "      <td>4599</td>\n",
       "      <td>F</td>\n",
       "      <td>3</td>\n",
       "      <td>2</td>\n",
       "    </tr>\n",
       "    <tr>\n",
       "      <th>1</th>\n",
       "      <td>1</td>\n",
       "      <td>2020</td>\n",
       "      <td>G1</td>\n",
       "      <td>10000132</td>\n",
       "      <td>2</td>\n",
       "      <td>45</td>\n",
       "      <td>2</td>\n",
       "      <td>8</td>\n",
       "      <td>2</td>\n",
       "      <td>42500</td>\n",
       "      <td>17500</td>\n",
       "      <td>15257</td>\n",
       "      <td>J</td>\n",
       "      <td>2</td>\n",
       "      <td>3</td>\n",
       "    </tr>\n",
       "    <tr>\n",
       "      <th>2</th>\n",
       "      <td>2</td>\n",
       "      <td>2020</td>\n",
       "      <td>G1</td>\n",
       "      <td>10000162</td>\n",
       "      <td>2</td>\n",
       "      <td>73</td>\n",
       "      <td>1</td>\n",
       "      <td>2</td>\n",
       "      <td>3</td>\n",
       "      <td>5712</td>\n",
       "      <td>0</td>\n",
       "      <td>725</td>\n",
       "      <td>T</td>\n",
       "      <td>4</td>\n",
       "      <td>2</td>\n",
       "    </tr>\n",
       "    <tr>\n",
       "      <th>3</th>\n",
       "      <td>3</td>\n",
       "      <td>2020</td>\n",
       "      <td>G1</td>\n",
       "      <td>10000182</td>\n",
       "      <td>1</td>\n",
       "      <td>58</td>\n",
       "      <td>2</td>\n",
       "      <td>4</td>\n",
       "      <td>2</td>\n",
       "      <td>14870</td>\n",
       "      <td>0</td>\n",
       "      <td>2431</td>\n",
       "      <td>C</td>\n",
       "      <td>5</td>\n",
       "      <td>2</td>\n",
       "    </tr>\n",
       "    <tr>\n",
       "      <th>4</th>\n",
       "      <td>4</td>\n",
       "      <td>2020</td>\n",
       "      <td>G1</td>\n",
       "      <td>10000192</td>\n",
       "      <td>2</td>\n",
       "      <td>27</td>\n",
       "      <td>1</td>\n",
       "      <td>4</td>\n",
       "      <td>1</td>\n",
       "      <td>814</td>\n",
       "      <td>0</td>\n",
       "      <td>893</td>\n",
       "      <td>R</td>\n",
       "      <td>2</td>\n",
       "      <td>3</td>\n",
       "    </tr>\n",
       "    <tr>\n",
       "      <th>...</th>\n",
       "      <td>...</td>\n",
       "      <td>...</td>\n",
       "      <td>...</td>\n",
       "      <td>...</td>\n",
       "      <td>...</td>\n",
       "      <td>...</td>\n",
       "      <td>...</td>\n",
       "      <td>...</td>\n",
       "      <td>...</td>\n",
       "      <td>...</td>\n",
       "      <td>...</td>\n",
       "      <td>...</td>\n",
       "      <td>...</td>\n",
       "      <td>...</td>\n",
       "      <td>...</td>\n",
       "    </tr>\n",
       "    <tr>\n",
       "      <th>18059</th>\n",
       "      <td>18059</td>\n",
       "      <td>2020</td>\n",
       "      <td>G2</td>\n",
       "      <td>993800291</td>\n",
       "      <td>1</td>\n",
       "      <td>42</td>\n",
       "      <td>3</td>\n",
       "      <td>6</td>\n",
       "      <td>2</td>\n",
       "      <td>6705</td>\n",
       "      <td>2200</td>\n",
       "      <td>-390</td>\n",
       "      <td>NaN</td>\n",
       "      <td>NaN</td>\n",
       "      <td>3</td>\n",
       "    </tr>\n",
       "    <tr>\n",
       "      <th>18060</th>\n",
       "      <td>18060</td>\n",
       "      <td>2020</td>\n",
       "      <td>G2</td>\n",
       "      <td>994800251</td>\n",
       "      <td>1</td>\n",
       "      <td>49</td>\n",
       "      <td>5</td>\n",
       "      <td>6</td>\n",
       "      <td>2</td>\n",
       "      <td>130180</td>\n",
       "      <td>22000</td>\n",
       "      <td>11784</td>\n",
       "      <td>O</td>\n",
       "      <td>3</td>\n",
       "      <td>1</td>\n",
       "    </tr>\n",
       "    <tr>\n",
       "      <th>18061</th>\n",
       "      <td>18061</td>\n",
       "      <td>2020</td>\n",
       "      <td>G2</td>\n",
       "      <td>994800261</td>\n",
       "      <td>1</td>\n",
       "      <td>57</td>\n",
       "      <td>5</td>\n",
       "      <td>6</td>\n",
       "      <td>2</td>\n",
       "      <td>265226</td>\n",
       "      <td>29000</td>\n",
       "      <td>11560</td>\n",
       "      <td>NaN</td>\n",
       "      <td>NaN</td>\n",
       "      <td>1</td>\n",
       "    </tr>\n",
       "    <tr>\n",
       "      <th>18062</th>\n",
       "      <td>18062</td>\n",
       "      <td>2020</td>\n",
       "      <td>G2</td>\n",
       "      <td>994800291</td>\n",
       "      <td>2</td>\n",
       "      <td>53</td>\n",
       "      <td>2</td>\n",
       "      <td>7</td>\n",
       "      <td>4</td>\n",
       "      <td>109695</td>\n",
       "      <td>25000</td>\n",
       "      <td>7074</td>\n",
       "      <td>O</td>\n",
       "      <td>2</td>\n",
       "      <td>2</td>\n",
       "    </tr>\n",
       "    <tr>\n",
       "      <th>18063</th>\n",
       "      <td>18063</td>\n",
       "      <td>2020</td>\n",
       "      <td>G2</td>\n",
       "      <td>995800261</td>\n",
       "      <td>1</td>\n",
       "      <td>44</td>\n",
       "      <td>5</td>\n",
       "      <td>6</td>\n",
       "      <td>2</td>\n",
       "      <td>71223</td>\n",
       "      <td>13000</td>\n",
       "      <td>5404</td>\n",
       "      <td>C</td>\n",
       "      <td>3</td>\n",
       "      <td>1</td>\n",
       "    </tr>\n",
       "  </tbody>\n",
       "</table>\n",
       "<p>18064 rows × 15 columns</p>\n",
       "</div>"
      ],
      "text/plain": [
       "       Unnamed: 0  year metro         id  sex  age  number  education  \\\n",
       "0               0  2020    G1   10000112    1   34       3          6   \n",
       "1               1  2020    G1   10000132    2   45       2          8   \n",
       "2               2  2020    G1   10000162    2   73       1          2   \n",
       "3               3  2020    G1   10000182    1   58       2          4   \n",
       "4               4  2020    G1   10000192    2   27       1          4   \n",
       "...           ...   ...   ...        ...  ...  ...     ...        ...   \n",
       "18059       18059  2020    G2  993800291    1   42       3          6   \n",
       "18060       18060  2020    G2  994800251    1   49       5          6   \n",
       "18061       18061  2020    G2  994800261    1   57       5          6   \n",
       "18062       18062  2020    G2  994800291    2   53       2          7   \n",
       "18063       18063  2020    G2  995800261    1   44       5          6   \n",
       "\n",
       "       marriage   asset   debt  income industry  job  house  \n",
       "0             2  112000  54500    4599        F    3      2  \n",
       "1             2   42500  17500   15257        J    2      3  \n",
       "2             3    5712      0     725        T    4      2  \n",
       "3             2   14870      0    2431        C    5      2  \n",
       "4             1     814      0     893        R    2      3  \n",
       "...         ...     ...    ...     ...      ...  ...    ...  \n",
       "18059         2    6705   2200    -390      NaN  NaN      3  \n",
       "18060         2  130180  22000   11784        O    3      1  \n",
       "18061         2  265226  29000   11560      NaN  NaN      1  \n",
       "18062         4  109695  25000    7074        O    2      2  \n",
       "18063         2   71223  13000    5404        C    3      1  \n",
       "\n",
       "[18064 rows x 15 columns]"
      ]
     },
     "execution_count": 8,
     "metadata": {},
     "output_type": "execute_result"
    }
   ],
   "source": [
    "df = pd.read_csv(\"household_2020a.csv\")\n",
    "df"
   ]
  },
  {
   "cell_type": "code",
   "execution_count": 9,
   "id": "5fad1c26",
   "metadata": {},
   "outputs": [],
   "source": [
    "df1 = df[['income','education']]"
   ]
  },
  {
   "cell_type": "code",
   "execution_count": 10,
   "id": "5eb597aa",
   "metadata": {},
   "outputs": [],
   "source": [
    "def edu(x):  # 교육코드를 교육연수로 바꾸어주는 함수\n",
    "    if x == 2:\n",
    "        return 6\n",
    "    elif x == 3:\n",
    "        return 9\n",
    "    elif x == 4:\n",
    "        return 12\n",
    "    elif x == 5:\n",
    "        return 14\n",
    "    elif x == 6: \n",
    "        return 16\n",
    "    elif x == 7:\n",
    "        return 18\n",
    "    elif x == 8:\n",
    "        return 21\n",
    "    else:\n",
    "        return 0"
   ]
  },
  {
   "cell_type": "code",
   "execution_count": 14,
   "id": "297fd452",
   "metadata": {},
   "outputs": [
    {
     "data": {
      "text/html": [
       "<div>\n",
       "<style scoped>\n",
       "    .dataframe tbody tr th:only-of-type {\n",
       "        vertical-align: middle;\n",
       "    }\n",
       "\n",
       "    .dataframe tbody tr th {\n",
       "        vertical-align: top;\n",
       "    }\n",
       "\n",
       "    .dataframe thead th {\n",
       "        text-align: right;\n",
       "    }\n",
       "</style>\n",
       "<table border=\"1\" class=\"dataframe\">\n",
       "  <thead>\n",
       "    <tr style=\"text-align: right;\">\n",
       "      <th></th>\n",
       "      <th>income</th>\n",
       "      <th>education_year</th>\n",
       "    </tr>\n",
       "  </thead>\n",
       "  <tbody>\n",
       "    <tr>\n",
       "      <th>income</th>\n",
       "      <td>1.000000</td>\n",
       "      <td>0.390346</td>\n",
       "    </tr>\n",
       "    <tr>\n",
       "      <th>education_year</th>\n",
       "      <td>0.390346</td>\n",
       "      <td>1.000000</td>\n",
       "    </tr>\n",
       "  </tbody>\n",
       "</table>\n",
       "</div>"
      ],
      "text/plain": [
       "                  income  education_year\n",
       "income          1.000000        0.390346\n",
       "education_year  0.390346        1.000000"
      ]
     },
     "execution_count": 14,
     "metadata": {},
     "output_type": "execute_result"
    }
   ],
   "source": [
    "df2 = df1.copy()\n",
    "df2['education_year'] = df2['education'].apply(edu) # apply 함수 사용\n",
    "df3 = df2.drop(['education'],axis=1)\n",
    "corr = df3.corr()\n",
    "corr"
   ]
  },
  {
   "cell_type": "code",
   "execution_count": 15,
   "id": "c35f18fa",
   "metadata": {},
   "outputs": [
    {
     "data": {
      "text/plain": [
       "0.39"
      ]
     },
     "execution_count": 15,
     "metadata": {},
     "output_type": "execute_result"
    }
   ],
   "source": [
    "np.round(corr.iloc[0, 1], 3)"
   ]
  },
  {
   "cell_type": "markdown",
   "id": "80ff4eaa",
   "metadata": {},
   "source": [
    "### 상관계수 함수를 만들기. 상관계수를 구하는 데는 lamda,map 함수를 이용한다. 람다 함수는 한줄 함수로 함수를 간단하게 표현할 수 있다."
   ]
  },
  {
   "cell_type": "code",
   "execution_count": 18,
   "id": "0fc02591",
   "metadata": {},
   "outputs": [
    {
     "data": {
      "text/plain": [
       "25"
      ]
     },
     "execution_count": 18,
     "metadata": {},
     "output_type": "execute_result"
    }
   ],
   "source": [
    "\n",
    "def squarel(a):\n",
    "    return a*a\n",
    "squarel(5)\n",
    "\n"
   ]
  },
  {
   "cell_type": "code",
   "execution_count": 19,
   "id": "adbc5cc8",
   "metadata": {},
   "outputs": [
    {
     "data": {
      "text/plain": [
       "25"
      ]
     },
     "execution_count": 19,
     "metadata": {},
     "output_type": "execute_result"
    }
   ],
   "source": [
    "square2 = lambda a: a*a\n",
    "square2(5)"
   ]
  },
  {
   "cell_type": "markdown",
   "id": "0e01112d",
   "metadata": {},
   "source": [
    "### map 함수는 map(function,iterable) 형태를 가지고 있으며, iterable에는 리스트나 튜플이 올 수 있습니다. map 함수는 객체 형태이므로 list나 tuple로 변환시켜 사용한다. 예를 들어, 리스트 형태인 [1,2,3]을 각각 제곱하여 반환하는 함수를 map함수와 lambda 함수를 이용하여 다음과 같이 간단하게 표현할 수 있다."
   ]
  },
  {
   "cell_type": "code",
   "execution_count": 20,
   "id": "86c9b94b",
   "metadata": {},
   "outputs": [
    {
     "data": {
      "text/plain": [
       "[1, 4, 9]"
      ]
     },
     "execution_count": 20,
     "metadata": {},
     "output_type": "execute_result"
    }
   ],
   "source": [
    "mylist = [1,2,3]\n",
    "result1 = []\n",
    "for i in mylist:\n",
    "    i2 = squarel(i)\n",
    "    result1.append(i2)\n",
    "result1\n"
   ]
  },
  {
   "cell_type": "code",
   "execution_count": 21,
   "id": "3e3407eb",
   "metadata": {},
   "outputs": [
    {
     "data": {
      "text/plain": [
       "[1, 4, 9]"
      ]
     },
     "execution_count": 21,
     "metadata": {},
     "output_type": "execute_result"
    }
   ],
   "source": [
    "result2 = list(map(lambda a: a*a,[1,2,3]))\n",
    "result2"
   ]
  },
  {
   "cell_type": "markdown",
   "id": "7148fcfd",
   "metadata": {},
   "source": [
    "### 다음은 복수의 함수를 이용하여 상관계수를 구하는 과정이다. 분산을 구하는 함수에 필요한 제곱항의 합을 구하는 과정에는 lambda 함수와 map 함수를 이용한다."
   ]
  },
  {
   "cell_type": "code",
   "execution_count": 25,
   "id": "35d6b6af",
   "metadata": {},
   "outputs": [],
   "source": [
    "def de_mean(x):\n",
    "    x_bar = np.mean(x)\n",
    "    return[x_i-x_bar for x_i in x] # list comprehensio,for 반복문을 사용하여 list를 효과적으로 생성\n",
    "def covariance(x,y):  # 공분산\n",
    "    n = len(x)\n",
    "    return np.dot(de_mean(x),de_mean(y))/(n-1)\n",
    "def sum_of_squares(x):\n",
    "    return sum(list(map(lambda a : a*a,x)))\n",
    "def variance(x):\n",
    "    n = len(x)\n",
    "    deviation = de_mean(x)\n",
    "    return sum_of_squares(deviation)/(n-1)\n",
    "def standard_deviation(x):\n",
    "    return math.sqrt(variance(x))\n",
    "def correlation(x,y):\n",
    "    stdev_x = standard_deviation(x)\n",
    "    stdev_y = standard_deviation(y)\n",
    "    return np.round(covariance(x,y)/(stdev_x*stdev_y),2)"
   ]
  },
  {
   "cell_type": "code",
   "execution_count": 26,
   "id": "aa4977d1",
   "metadata": {},
   "outputs": [],
   "source": [
    "edu = df3.to_numpy()\n",
    "x = edu[:,0]\n",
    "y = edu[:,1]"
   ]
  },
  {
   "cell_type": "code",
   "execution_count": 27,
   "id": "30555cfe",
   "metadata": {},
   "outputs": [
    {
     "data": {
      "text/plain": [
       "0.39"
      ]
     },
     "execution_count": 27,
     "metadata": {},
     "output_type": "execute_result"
    }
   ],
   "source": [
    "correlation(x,y)"
   ]
  },
  {
   "cell_type": "markdown",
   "id": "7863533c",
   "metadata": {},
   "source": [
    "### 30대 1인 가구의 소득과 자산 간 회귀분석\n"
   ]
  },
  {
   "cell_type": "code",
   "execution_count": 28,
   "id": "695be326",
   "metadata": {},
   "outputs": [],
   "source": [
    "import pandas as pd\n",
    "import numpy as np\n",
    "%matplotlib inline\n",
    "import matplotlib.pyplot as plt\n",
    "from matplotlib import rcParams\n"
   ]
  },
  {
   "cell_type": "code",
   "execution_count": 30,
   "id": "a0303189",
   "metadata": {},
   "outputs": [],
   "source": [
    "from matplotlib import font_manager,rc\n",
    "## 그래프에서 한글 폰트 이용하기\n",
    "rcParams['axes.unicode_minus'] = False\n",
    "plt.rcParams['font.family'] = 'Malgun Gothic'\n",
    "font_name = font_manager.FontProperties(fname=\"c:/windows/Fonts/malgun.ttf\").get_name()\n",
    "rc('font',family = font_name)"
   ]
  },
  {
   "cell_type": "code",
   "execution_count": 31,
   "id": "21a461c0",
   "metadata": {},
   "outputs": [],
   "source": [
    "df = pd.read_csv(\"household_2020a.csv\")\n",
    "df['income'] = df['income']/10000  # 억 원으로 단위조정\n",
    "df['net_asset'] = df['asset']/10000 - df['debt']/10000  # 순자산\n",
    "df1 = df.loc[df['number'].isin([1])&(df['age']>=30) & (df['age']<39)] # 30대 1인 가구\n",
    "df1 = df1[['income','net_asset']]"
   ]
  },
  {
   "cell_type": "markdown",
   "id": "acbd0b6d",
   "metadata": {},
   "source": [
    "### statsmodels 패키지를 이용하여 회귀분석을 해보자. 종속변수는 순자산이고 설명변수는 소득이다."
   ]
  },
  {
   "cell_type": "code",
   "execution_count": 32,
   "id": "19461d0b",
   "metadata": {},
   "outputs": [
    {
     "name": "stdout",
     "output_type": "stream",
     "text": [
      "                            OLS Regression Results                            \n",
      "==============================================================================\n",
      "Dep. Variable:              net_asset   R-squared:                       0.105\n",
      "Model:                            OLS   Adj. R-squared:                  0.103\n",
      "Method:                 Least Squares   F-statistic:                     41.24\n",
      "Date:                Tue, 28 Mar 2023   Prob (F-statistic):           4.39e-10\n",
      "Time:                        17:08:30   Log-Likelihood:                -596.66\n",
      "No. Observations:                 352   AIC:                             1197.\n",
      "Df Residuals:                     350   BIC:                             1205.\n",
      "Df Model:                           1                                         \n",
      "Covariance Type:            nonrobust                                         \n",
      "==============================================================================\n",
      "                 coef    std err          t      P>|t|      [0.025      0.975]\n",
      "------------------------------------------------------------------------------\n",
      "Intercept      0.3232      0.135      2.389      0.017       0.057       0.589\n",
      "income         2.5458      0.396      6.422      0.000       1.766       3.325\n",
      "==============================================================================\n",
      "Omnibus:                      272.339   Durbin-Watson:                   2.090\n",
      "Prob(Omnibus):                  0.000   Jarque-Bera (JB):             4058.057\n",
      "Skew:                           3.180   Prob(JB):                         0.00\n",
      "Kurtosis:                      18.370   Cond. No.                         6.12\n",
      "==============================================================================\n",
      "\n",
      "Notes:\n",
      "[1] Standard Errors assume that the covariance matrix of the errors is correctly specified.\n"
     ]
    }
   ],
   "source": [
    "import statsmodels.api as sm\n",
    "from statsmodels.formula.api import ols\n",
    "asset_model = ols(\"net_asset ~ income\",data = df1).fit()\n",
    "print(asset_model.summary())"
   ]
  },
  {
   "cell_type": "markdown",
   "id": "a576e829",
   "metadata": {},
   "source": [
    "### RMSE 구하기\n",
    "### 추정오차를 구하기 위해 회귀직선으로 추정한 추정치를 구하고 실제값과 추정치와의 각각의 오차(er)를 구한 다음 각각의 오차를 이용하여 RMSE를 구한다."
   ]
  },
  {
   "cell_type": "code",
   "execution_count": 33,
   "id": "9322dd3e",
   "metadata": {},
   "outputs": [
    {
     "data": {
      "text/html": [
       "<div>\n",
       "<style scoped>\n",
       "    .dataframe tbody tr th:only-of-type {\n",
       "        vertical-align: middle;\n",
       "    }\n",
       "\n",
       "    .dataframe tbody tr th {\n",
       "        vertical-align: top;\n",
       "    }\n",
       "\n",
       "    .dataframe thead th {\n",
       "        text-align: right;\n",
       "    }\n",
       "</style>\n",
       "<table border=\"1\" class=\"dataframe\">\n",
       "  <thead>\n",
       "    <tr style=\"text-align: right;\">\n",
       "      <th></th>\n",
       "      <th>income</th>\n",
       "      <th>net_asset</th>\n",
       "      <th>predicted</th>\n",
       "      <th>er</th>\n",
       "    </tr>\n",
       "  </thead>\n",
       "  <tbody>\n",
       "    <tr>\n",
       "      <th>19</th>\n",
       "      <td>0.1033</td>\n",
       "      <td>0.5252</td>\n",
       "      <td>0.586148</td>\n",
       "      <td>-0.060948</td>\n",
       "    </tr>\n",
       "    <tr>\n",
       "      <th>134</th>\n",
       "      <td>0.3032</td>\n",
       "      <td>1.2920</td>\n",
       "      <td>1.095055</td>\n",
       "      <td>0.196945</td>\n",
       "    </tr>\n",
       "    <tr>\n",
       "      <th>157</th>\n",
       "      <td>0.1812</td>\n",
       "      <td>0.0540</td>\n",
       "      <td>0.784467</td>\n",
       "      <td>-0.730467</td>\n",
       "    </tr>\n",
       "    <tr>\n",
       "      <th>190</th>\n",
       "      <td>0.3959</td>\n",
       "      <td>-0.4780</td>\n",
       "      <td>1.331052</td>\n",
       "      <td>-1.809052</td>\n",
       "    </tr>\n",
       "    <tr>\n",
       "      <th>191</th>\n",
       "      <td>0.1197</td>\n",
       "      <td>0.1610</td>\n",
       "      <td>0.627900</td>\n",
       "      <td>-0.466900</td>\n",
       "    </tr>\n",
       "  </tbody>\n",
       "</table>\n",
       "</div>"
      ],
      "text/plain": [
       "     income  net_asset  predicted        er\n",
       "19   0.1033     0.5252   0.586148 -0.060948\n",
       "134  0.3032     1.2920   1.095055  0.196945\n",
       "157  0.1812     0.0540   0.784467 -0.730467\n",
       "190  0.3959    -0.4780   1.331052 -1.809052\n",
       "191  0.1197     0.1610   0.627900 -0.466900"
      ]
     },
     "execution_count": 33,
     "metadata": {},
     "output_type": "execute_result"
    }
   ],
   "source": [
    "df2 = df1.copy()\n",
    "df2['predicted'] = asset_model.params[0] + df2['income']*asset_model.params[1]\n",
    "df2['er'] = df2['net_asset'] - df2['predicted']\n",
    "df2.head()"
   ]
  },
  {
   "cell_type": "code",
   "execution_count": 37,
   "id": "c04f3d0b",
   "metadata": {},
   "outputs": [
    {
     "data": {
      "text/plain": [
       "1.32"
      ]
     },
     "execution_count": 37,
     "metadata": {},
     "output_type": "execute_result"
    }
   ],
   "source": [
    "error = df2['er'].to_numpy()\n",
    "error2 = []\n",
    "for i in range(len(error)):\n",
    "    er2 = error[i] ** 2\n",
    "    error2.append(er2)\n",
    "rmse = np.sqrt(np.sum(error2)/(len(error)-2))\n",
    "np.round(rmse,2)"
   ]
  },
  {
   "cell_type": "markdown",
   "id": "9c668dc1",
   "metadata": {},
   "source": [
    "### 소득이 5천만 원인 30대 1인 가구가 순자산이 2억 원 이상 확률\n"
   ]
  },
  {
   "cell_type": "code",
   "execution_count": 38,
   "id": "1daa2511",
   "metadata": {},
   "outputs": [
    {
     "data": {
      "text/plain": [
       "0.306"
      ]
     },
     "execution_count": 38,
     "metadata": {},
     "output_type": "execute_result"
    }
   ],
   "source": [
    "import scipy.stats as st\n",
    "intercept = asset_model.params[0]\n",
    "slope = asset_model.params[1]\n",
    "asset1_mn = intercept + 0.5*slope\n",
    "dif = 2 - asset1_mn\n",
    "z = dif/rmse\n",
    "np.round(z,3)\n"
   ]
  },
  {
   "cell_type": "code",
   "execution_count": 39,
   "id": "9bf1b153",
   "metadata": {},
   "outputs": [
    {
     "data": {
      "text/plain": [
       "0.38"
      ]
     },
     "execution_count": 39,
     "metadata": {},
     "output_type": "execute_result"
    }
   ],
   "source": [
    "p_value = 1 - st.norm.cdf(z)\n",
    "np.round(p_value,2)\n"
   ]
  },
  {
   "cell_type": "markdown",
   "id": "2af4b3d1",
   "metadata": {},
   "source": [
    "### 결정계수 \n",
    "### SST,SSR,SSE를 각각 구한 후 결정계수와 조정된 결정계수를 구합니다.\n"
   ]
  },
  {
   "cell_type": "code",
   "execution_count": 42,
   "id": "ab750bf6",
   "metadata": {},
   "outputs": [
    {
     "data": {
      "text/plain": [
       "sst    683.514496\n",
       "ssr     72.051564\n",
       "sse    611.462932\n",
       "dtype: float64"
      ]
     },
     "execution_count": 42,
     "metadata": {},
     "output_type": "execute_result"
    }
   ],
   "source": [
    "df3 = df2.copy()\n",
    "df3['y_bar'] = df3['net_asset'].mean()\n",
    "df3['sst'] = (df3['net_asset']-df3['y_bar'])**2\n",
    "df3['ssr'] = (df3['predicted']-df3['y_bar'])**2\n",
    "df3['sse'] = (df3['net_asset']-df3['predicted'])**2\n",
    "df4=df3[['sst','ssr','sse']]\n",
    "df5 = df4.sum(axis = 0)\n",
    "df5"
   ]
  },
  {
   "cell_type": "code",
   "execution_count": 43,
   "id": "d8054810",
   "metadata": {},
   "outputs": [
    {
     "data": {
      "text/plain": [
       "0.105"
      ]
     },
     "execution_count": 43,
     "metadata": {},
     "output_type": "execute_result"
    }
   ],
   "source": [
    "r2 = df5['ssr']/df5['sst']\n",
    "np.round(r2,3)"
   ]
  },
  {
   "cell_type": "code",
   "execution_count": 44,
   "id": "50eb627f",
   "metadata": {},
   "outputs": [
    {
     "data": {
      "text/plain": [
       "0.1"
      ]
     },
     "execution_count": 44,
     "metadata": {},
     "output_type": "execute_result"
    }
   ],
   "source": [
    "k = 2\n",
    "n = len(df1)\n",
    "a = df5['sse']/(n-k-1)\n",
    "b = df5['sst']/(n-1)\n",
    "adjR2 = 1 - a/b\n",
    "np.round(adjR2,2)"
   ]
  },
  {
   "cell_type": "markdown",
   "id": "0398a38f",
   "metadata": {},
   "source": [
    "# 2 try"
   ]
  },
  {
   "cell_type": "code",
   "execution_count": 1,
   "id": "be371526",
   "metadata": {},
   "outputs": [],
   "source": [
    "import pandas as pd\n",
    "import numpy as np\n",
    "import math\n"
   ]
  },
  {
   "cell_type": "code",
   "execution_count": 4,
   "id": "9fc2c765",
   "metadata": {},
   "outputs": [
    {
     "data": {
      "text/html": [
       "<div>\n",
       "<style scoped>\n",
       "    .dataframe tbody tr th:only-of-type {\n",
       "        vertical-align: middle;\n",
       "    }\n",
       "\n",
       "    .dataframe tbody tr th {\n",
       "        vertical-align: top;\n",
       "    }\n",
       "\n",
       "    .dataframe thead th {\n",
       "        text-align: right;\n",
       "    }\n",
       "</style>\n",
       "<table border=\"1\" class=\"dataframe\">\n",
       "  <thead>\n",
       "    <tr style=\"text-align: right;\">\n",
       "      <th></th>\n",
       "      <th>income</th>\n",
       "      <th>education</th>\n",
       "    </tr>\n",
       "  </thead>\n",
       "  <tbody>\n",
       "    <tr>\n",
       "      <th>0</th>\n",
       "      <td>4599</td>\n",
       "      <td>6</td>\n",
       "    </tr>\n",
       "    <tr>\n",
       "      <th>1</th>\n",
       "      <td>15257</td>\n",
       "      <td>8</td>\n",
       "    </tr>\n",
       "    <tr>\n",
       "      <th>2</th>\n",
       "      <td>725</td>\n",
       "      <td>2</td>\n",
       "    </tr>\n",
       "    <tr>\n",
       "      <th>3</th>\n",
       "      <td>2431</td>\n",
       "      <td>4</td>\n",
       "    </tr>\n",
       "    <tr>\n",
       "      <th>4</th>\n",
       "      <td>893</td>\n",
       "      <td>4</td>\n",
       "    </tr>\n",
       "    <tr>\n",
       "      <th>...</th>\n",
       "      <td>...</td>\n",
       "      <td>...</td>\n",
       "    </tr>\n",
       "    <tr>\n",
       "      <th>18059</th>\n",
       "      <td>-390</td>\n",
       "      <td>6</td>\n",
       "    </tr>\n",
       "    <tr>\n",
       "      <th>18060</th>\n",
       "      <td>11784</td>\n",
       "      <td>6</td>\n",
       "    </tr>\n",
       "    <tr>\n",
       "      <th>18061</th>\n",
       "      <td>11560</td>\n",
       "      <td>6</td>\n",
       "    </tr>\n",
       "    <tr>\n",
       "      <th>18062</th>\n",
       "      <td>7074</td>\n",
       "      <td>7</td>\n",
       "    </tr>\n",
       "    <tr>\n",
       "      <th>18063</th>\n",
       "      <td>5404</td>\n",
       "      <td>6</td>\n",
       "    </tr>\n",
       "  </tbody>\n",
       "</table>\n",
       "<p>18064 rows × 2 columns</p>\n",
       "</div>"
      ],
      "text/plain": [
       "       income  education\n",
       "0        4599          6\n",
       "1       15257          8\n",
       "2         725          2\n",
       "3        2431          4\n",
       "4         893          4\n",
       "...       ...        ...\n",
       "18059    -390          6\n",
       "18060   11784          6\n",
       "18061   11560          6\n",
       "18062    7074          7\n",
       "18063    5404          6\n",
       "\n",
       "[18064 rows x 2 columns]"
      ]
     },
     "execution_count": 4,
     "metadata": {},
     "output_type": "execute_result"
    }
   ],
   "source": [
    "df = pd.read_csv(\"household_2020a.csv\")\n",
    "df1 = df[['income','education']]\n",
    "df1"
   ]
  },
  {
   "cell_type": "code",
   "execution_count": 6,
   "id": "219572eb",
   "metadata": {},
   "outputs": [],
   "source": [
    "def edu(x):\n",
    "    if x == 2:\n",
    "        return 6\n",
    "    elif x == 3:\n",
    "        return 9\n",
    "    elif x == 4:\n",
    "        return 12\n",
    "    elif x == 5:\n",
    "        return 14\n",
    "    elif x == 6:\n",
    "        return 16\n",
    "    elif x == 7:\n",
    "        return 18\n",
    "    elif x == 8:\n",
    "        return 21\n",
    "    else:\n",
    "        return 0\n",
    "    "
   ]
  },
  {
   "cell_type": "code",
   "execution_count": 7,
   "id": "9eb210b1",
   "metadata": {},
   "outputs": [
    {
     "data": {
      "text/html": [
       "<div>\n",
       "<style scoped>\n",
       "    .dataframe tbody tr th:only-of-type {\n",
       "        vertical-align: middle;\n",
       "    }\n",
       "\n",
       "    .dataframe tbody tr th {\n",
       "        vertical-align: top;\n",
       "    }\n",
       "\n",
       "    .dataframe thead th {\n",
       "        text-align: right;\n",
       "    }\n",
       "</style>\n",
       "<table border=\"1\" class=\"dataframe\">\n",
       "  <thead>\n",
       "    <tr style=\"text-align: right;\">\n",
       "      <th></th>\n",
       "      <th>income</th>\n",
       "      <th>education_year</th>\n",
       "    </tr>\n",
       "  </thead>\n",
       "  <tbody>\n",
       "    <tr>\n",
       "      <th>income</th>\n",
       "      <td>1.000000</td>\n",
       "      <td>0.390346</td>\n",
       "    </tr>\n",
       "    <tr>\n",
       "      <th>education_year</th>\n",
       "      <td>0.390346</td>\n",
       "      <td>1.000000</td>\n",
       "    </tr>\n",
       "  </tbody>\n",
       "</table>\n",
       "</div>"
      ],
      "text/plain": [
       "                  income  education_year\n",
       "income          1.000000        0.390346\n",
       "education_year  0.390346        1.000000"
      ]
     },
     "execution_count": 7,
     "metadata": {},
     "output_type": "execute_result"
    }
   ],
   "source": [
    "df2 = df1.copy()\n",
    "df2['education_year'] = df2['education'].apply(edu) # apply 함수 사용 = ()안에 있는 함수에 df2[] 안에 있는걸 적용\n",
    "df3 = df2.drop(['education'],axis=1) #drop은 해당 열을 삭제함\n",
    "corr = df3.corr()  #corr()은 누락값을 제외하고 전체(dataframe) 컬럼들 간의 상관도를 계산한다.\n",
    "corr"
   ]
  },
  {
   "cell_type": "code",
   "execution_count": 8,
   "id": "5c4c0dcb",
   "metadata": {},
   "outputs": [
    {
     "data": {
      "text/plain": [
       "0.39"
      ]
     },
     "execution_count": 8,
     "metadata": {},
     "output_type": "execute_result"
    }
   ],
   "source": [
    "np.round(corr.iloc[0,1],3)       ????"
   ]
  },
  {
   "cell_type": "code",
   "execution_count": 9,
   "id": "8c793a3e",
   "metadata": {},
   "outputs": [
    {
     "data": {
      "text/plain": [
       "25"
      ]
     },
     "execution_count": 9,
     "metadata": {},
     "output_type": "execute_result"
    }
   ],
   "source": [
    "(lambda a:a*a)(5)"
   ]
  },
  {
   "cell_type": "code",
   "execution_count": 11,
   "id": "eea523d3",
   "metadata": {},
   "outputs": [
    {
     "data": {
      "text/plain": [
       "[1, 4, 9]"
      ]
     },
     "execution_count": 11,
     "metadata": {},
     "output_type": "execute_result"
    }
   ],
   "source": [
    "myList = [1,2,3]\n",
    "result1 = []\n",
    "for i in myList:\n",
    "    i2 = (lambda a:a*a)(i)\n",
    "    result1.append(i2)\n",
    "result1"
   ]
  },
  {
   "cell_type": "code",
   "execution_count": 12,
   "id": "66a09d75",
   "metadata": {},
   "outputs": [
    {
     "data": {
      "text/plain": [
       "[1, 4, 9]"
      ]
     },
     "execution_count": 12,
     "metadata": {},
     "output_type": "execute_result"
    }
   ],
   "source": [
    "result2 = list(map(lambda a: a*a,[1,2,3]))\n",
    "result2"
   ]
  },
  {
   "cell_type": "code",
   "execution_count": 13,
   "id": "62f0afc9",
   "metadata": {},
   "outputs": [
    {
     "data": {
      "text/plain": [
       "0.39"
      ]
     },
     "execution_count": 13,
     "metadata": {},
     "output_type": "execute_result"
    }
   ],
   "source": [
    "def de_mean(x):\n",
    "    x_bar = np.mean(x)\n",
    "    return[x_i - x_bar for x_i in x]\n",
    "def covariance(x,y):   # 공분산\n",
    "    n = len(x)\n",
    "    return np.dot(de_mean(x),de_mean(y))/(n-1)\n",
    "def sum_of_squares(x):\n",
    "    return sum(list(map(lambda a : a*a,x)))\n",
    "def variance(x):\n",
    "    n = len(x)\n",
    "    deviation = de_mean(x)\n",
    "    return sum_of_squares(deviation)/(n-1)\n",
    "def standard_deviation(x):\n",
    "    return math.sqrt(variance(x))   # sqrt 제곱근 구하기\n",
    "def correlation(x,y):\n",
    "    stdev_x = standard_deviation(x)\n",
    "    stdev_y = standard_deviation(y)\n",
    "    return np.round(covariance(x,y)/(stdev_x*stdev_y),2)      # 넘파이 반올리 뒤에 숫자는 자릿수\n",
    "edu = df3.to_numpy()\n",
    "x = edu[:,0]\n",
    "y = edu[:,1]\n",
    "correlation(x,y)\n"
   ]
  },
  {
   "cell_type": "markdown",
   "id": "8f3ca2e5",
   "metadata": {},
   "source": [
    "# 7.7 소득과 자산 간 회귀분석"
   ]
  },
  {
   "cell_type": "code",
   "execution_count": 16,
   "id": "7b262214",
   "metadata": {},
   "outputs": [],
   "source": [
    "import pandas as pd\n",
    "import numpy as np\n",
    "%matplotlib inline\n",
    "import matplotlib.pyplot as plt\n",
    "from matplotlib import rcParams"
   ]
  },
  {
   "cell_type": "code",
   "execution_count": 19,
   "id": "96b21364",
   "metadata": {},
   "outputs": [],
   "source": [
    "from matplotlib import font_manager,rc\n",
    "rcParams['axes.unicode_minus']=False\n",
    "plt.rcParams['font.family'] = 'Malgun Gothic'\n",
    "font_name = font_manager.FontProperties(fname=\"c:/Windows/Fonts/malgun.ttf\").get_name()\n",
    "rc('font,family = font_name')"
   ]
  },
  {
   "cell_type": "code",
   "execution_count": 22,
   "id": "8d4a1208",
   "metadata": {},
   "outputs": [],
   "source": [
    "df = pd.read_csv(\"household_2020a.csv\")\n",
    "df['income'] = df['income']/10000\n",
    "df['net_asset'] = df['asset']/10000 - df['debt']/10000\n",
    "df1 = df.loc[df['number'].isin([1])&(df['age'] >= 30)&(df['age']<39)]   # isin = 일치하는지\n",
    "df1 = df1[['income','net_asset']]"
   ]
  },
  {
   "cell_type": "markdown",
   "id": "3dab6a0d",
   "metadata": {},
   "source": [
    "# statsmodels 패키지를 이용하여 회귀분석. \n",
    "## 종속변수는 순자산(net asset)이고 설명변수는 소득(income)이다. 절편 = 0.3232,기울기 = 2.5458"
   ]
  },
  {
   "cell_type": "code",
   "execution_count": 23,
   "id": "ea047090",
   "metadata": {},
   "outputs": [
    {
     "name": "stdout",
     "output_type": "stream",
     "text": [
      "                            OLS Regression Results                            \n",
      "==============================================================================\n",
      "Dep. Variable:              net_asset   R-squared:                       0.105\n",
      "Model:                            OLS   Adj. R-squared:                  0.103\n",
      "Method:                 Least Squares   F-statistic:                     41.24\n",
      "Date:                Sat, 01 Apr 2023   Prob (F-statistic):           4.39e-10\n",
      "Time:                        16:49:32   Log-Likelihood:                -596.66\n",
      "No. Observations:                 352   AIC:                             1197.\n",
      "Df Residuals:                     350   BIC:                             1205.\n",
      "Df Model:                           1                                         \n",
      "Covariance Type:            nonrobust                                         \n",
      "==============================================================================\n",
      "                 coef    std err          t      P>|t|      [0.025      0.975]\n",
      "------------------------------------------------------------------------------\n",
      "Intercept      0.3232      0.135      2.389      0.017       0.057       0.589\n",
      "income         2.5458      0.396      6.422      0.000       1.766       3.325\n",
      "==============================================================================\n",
      "Omnibus:                      272.339   Durbin-Watson:                   2.090\n",
      "Prob(Omnibus):                  0.000   Jarque-Bera (JB):             4058.057\n",
      "Skew:                           3.180   Prob(JB):                         0.00\n",
      "Kurtosis:                      18.370   Cond. No.                         6.12\n",
      "==============================================================================\n",
      "\n",
      "Notes:\n",
      "[1] Standard Errors assume that the covariance matrix of the errors is correctly specified.\n"
     ]
    }
   ],
   "source": [
    "import statsmodels.api as sm\n",
    "from statsmodels.formula.api import ols\n",
    "asset_model = ols(\"net_asset ~ income\",data = df1).fit()\n",
    "print(asset_model.summary())"
   ]
  },
  {
   "cell_type": "markdown",
   "id": "cc06cc37",
   "metadata": {},
   "source": [
    "## RMSE 구하기"
   ]
  },
  {
   "cell_type": "code",
   "execution_count": 29,
   "id": "5d9142c1",
   "metadata": {},
   "outputs": [
    {
     "data": {
      "text/html": [
       "<div>\n",
       "<style scoped>\n",
       "    .dataframe tbody tr th:only-of-type {\n",
       "        vertical-align: middle;\n",
       "    }\n",
       "\n",
       "    .dataframe tbody tr th {\n",
       "        vertical-align: top;\n",
       "    }\n",
       "\n",
       "    .dataframe thead th {\n",
       "        text-align: right;\n",
       "    }\n",
       "</style>\n",
       "<table border=\"1\" class=\"dataframe\">\n",
       "  <thead>\n",
       "    <tr style=\"text-align: right;\">\n",
       "      <th></th>\n",
       "      <th>income</th>\n",
       "      <th>net_asset</th>\n",
       "      <th>predicted</th>\n",
       "      <th>er</th>\n",
       "    </tr>\n",
       "  </thead>\n",
       "  <tbody>\n",
       "    <tr>\n",
       "      <th>19</th>\n",
       "      <td>0.1033</td>\n",
       "      <td>0.5252</td>\n",
       "      <td>0.586148</td>\n",
       "      <td>-0.060948</td>\n",
       "    </tr>\n",
       "    <tr>\n",
       "      <th>134</th>\n",
       "      <td>0.3032</td>\n",
       "      <td>1.2920</td>\n",
       "      <td>1.095055</td>\n",
       "      <td>0.196945</td>\n",
       "    </tr>\n",
       "    <tr>\n",
       "      <th>157</th>\n",
       "      <td>0.1812</td>\n",
       "      <td>0.0540</td>\n",
       "      <td>0.784467</td>\n",
       "      <td>-0.730467</td>\n",
       "    </tr>\n",
       "    <tr>\n",
       "      <th>190</th>\n",
       "      <td>0.3959</td>\n",
       "      <td>-0.4780</td>\n",
       "      <td>1.331052</td>\n",
       "      <td>-1.809052</td>\n",
       "    </tr>\n",
       "    <tr>\n",
       "      <th>191</th>\n",
       "      <td>0.1197</td>\n",
       "      <td>0.1610</td>\n",
       "      <td>0.627900</td>\n",
       "      <td>-0.466900</td>\n",
       "    </tr>\n",
       "  </tbody>\n",
       "</table>\n",
       "</div>"
      ],
      "text/plain": [
       "     income  net_asset  predicted        er\n",
       "19   0.1033     0.5252   0.586148 -0.060948\n",
       "134  0.3032     1.2920   1.095055  0.196945\n",
       "157  0.1812     0.0540   0.784467 -0.730467\n",
       "190  0.3959    -0.4780   1.331052 -1.809052\n",
       "191  0.1197     0.1610   0.627900 -0.466900"
      ]
     },
     "execution_count": 29,
     "metadata": {},
     "output_type": "execute_result"
    }
   ],
   "source": [
    "df2 = df1.copy()\n",
    "df2['predicted'] = asset_model.params[0] + df2['income']*asset_model.params[1]\n",
    "df2['er'] = df2['net_asset']-df2['predicted']\n",
    "df2.head()"
   ]
  },
  {
   "cell_type": "code",
   "execution_count": 31,
   "id": "ad869f21",
   "metadata": {},
   "outputs": [
    {
     "data": {
      "text/plain": [
       "1.32"
      ]
     },
     "execution_count": 31,
     "metadata": {},
     "output_type": "execute_result"
    }
   ],
   "source": [
    "error = df2[\"er\"].to_numpy()\n",
    "error2 = []\n",
    "for i in range(len(error)):\n",
    "    er2 = error[i] ** 2\n",
    "    error2.append(er2)\n",
    "    \n",
    "rmse = np.sqrt(np.sum(error2)/(len(error)-2))\n",
    "np.round(rmse,2)\n"
   ]
  },
  {
   "cell_type": "markdown",
   "id": "8042b4d6",
   "metadata": {},
   "source": [
    "## 소득이 5처만 원인 30대 1인 가구가 순자산이 2억 원 이상 확률\n"
   ]
  },
  {
   "cell_type": "code",
   "execution_count": 32,
   "id": "e81d5a8a",
   "metadata": {},
   "outputs": [
    {
     "data": {
      "text/plain": [
       "0.306"
      ]
     },
     "execution_count": 32,
     "metadata": {},
     "output_type": "execute_result"
    }
   ],
   "source": [
    "import scipy.stats as st\n",
    "intercept = asset_model.params[0]\n",
    "slope = asset_model.params[1]\n",
    "asset1_mn = intercept + 0.5*slope\n",
    "dif = 2-asset1_mn\n",
    "z = dif/rmse\n",
    "np.round(z,3)\n"
   ]
  },
  {
   "cell_type": "code",
   "execution_count": 33,
   "id": "18b86ef6",
   "metadata": {},
   "outputs": [
    {
     "data": {
      "text/plain": [
       "0.38"
      ]
     },
     "execution_count": 33,
     "metadata": {},
     "output_type": "execute_result"
    }
   ],
   "source": [
    "p_value = 1-st.norm.cdf(z)\n",
    "np.round(p_value,2)"
   ]
  },
  {
   "cell_type": "markdown",
   "id": "bc56bd34",
   "metadata": {},
   "source": [
    "# 결정계수\n",
    "## SST,SSR,SSE를 각각 구한 후 결정계수와 조정된 결정계수를 구합니다."
   ]
  },
  {
   "cell_type": "code",
   "execution_count": 34,
   "id": "1cdf6aa7",
   "metadata": {},
   "outputs": [
    {
     "data": {
      "text/plain": [
       "sst    683.514496\n",
       "ssr     72.051564\n",
       "sse    611.462932\n",
       "dtype: float64"
      ]
     },
     "execution_count": 34,
     "metadata": {},
     "output_type": "execute_result"
    }
   ],
   "source": [
    "df3 = df2.copy()\n",
    "df3['y_bar'] = df3['net_asset'].mean()\n",
    "df3['sst'] = (df3['net_asset']-df3['y_bar'])**2\n",
    "df3['ssr'] = (df3['predicted']-df3['y_bar'])**2\n",
    "df3['sse'] = (df3['net_asset']-df3['predicted'])**2\n",
    "df4=df3[['sst','ssr','sse']]\n",
    "df5 = df4.sum(axis=0)\n",
    "df5\n",
    "\n"
   ]
  },
  {
   "cell_type": "code",
   "execution_count": 35,
   "id": "de10acb2",
   "metadata": {},
   "outputs": [
    {
     "data": {
      "text/plain": [
       "0.105"
      ]
     },
     "execution_count": 35,
     "metadata": {},
     "output_type": "execute_result"
    }
   ],
   "source": [
    "r2 = df5['ssr']/df5['sst']\n",
    "np.round(r2,3)"
   ]
  },
  {
   "cell_type": "code",
   "execution_count": 36,
   "id": "eb3e030f",
   "metadata": {},
   "outputs": [
    {
     "data": {
      "text/plain": [
       "0.1"
      ]
     },
     "execution_count": 36,
     "metadata": {},
     "output_type": "execute_result"
    }
   ],
   "source": [
    "k=2\n",
    "n = len(df1)\n",
    "a = df5['sse']/(n-k-1)\n",
    "b = df5['sst']/(n-1)\n",
    "adjR2 = 1- a/b\n",
    "np.round(adjR2,2)"
   ]
  },
  {
   "cell_type": "code",
   "execution_count": null,
   "id": "3aed2fa6",
   "metadata": {},
   "outputs": [],
   "source": []
  }
 ],
 "metadata": {
  "kernelspec": {
   "display_name": "Python 3 (ipykernel)",
   "language": "python",
   "name": "python3"
  },
  "language_info": {
   "codemirror_mode": {
    "name": "ipython",
    "version": 3
   },
   "file_extension": ".py",
   "mimetype": "text/x-python",
   "name": "python",
   "nbconvert_exporter": "python",
   "pygments_lexer": "ipython3",
   "version": "3.9.7"
  }
 },
 "nbformat": 4,
 "nbformat_minor": 5
}
