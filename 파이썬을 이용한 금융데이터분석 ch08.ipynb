{
 "cells": [
  {
   "cell_type": "code",
   "execution_count": 1,
   "id": "0e567c47",
   "metadata": {},
   "outputs": [],
   "source": [
    "import numpy as np\n",
    "import pandas as pd\n",
    "import statsmodels.api as sm\n",
    "from statsmodels.formula.api import ols\n"
   ]
  },
  {
   "cell_type": "code",
   "execution_count": 2,
   "id": "4098a4f1",
   "metadata": {},
   "outputs": [],
   "source": [
    "def edu(x):\n",
    "    if x == 2:\n",
    "        return 6\n",
    "    elif x == 3:\n",
    "        return 9\n",
    "    elif x == 4:\n",
    "        return 12\n",
    "    elif x == 5:\n",
    "        return 14\n",
    "    elif x == 6:\n",
    "        return 16\n",
    "    elif x == 7:\n",
    "        return 18\n",
    "    elif x == 8:\n",
    "        return 21\n",
    "    else:\n",
    "        return 0\n",
    "    "
   ]
  },
  {
   "cell_type": "code",
   "execution_count": 5,
   "id": "0720b1df",
   "metadata": {},
   "outputs": [
    {
     "name": "stdout",
     "output_type": "stream",
     "text": [
      "                            OLS Regression Results                            \n",
      "==============================================================================\n",
      "Dep. Variable:                 income   R-squared:                       0.027\n",
      "Model:                            OLS   Adj. R-squared:                  0.025\n",
      "Method:                 Least Squares   F-statistic:                     10.88\n",
      "Date:                Mon, 10 Apr 2023   Prob (F-statistic):            0.00106\n",
      "Time:                        14:49:45   Log-Likelihood:                -3474.5\n",
      "No. Observations:                 388   AIC:                             6953.\n",
      "Df Residuals:                     386   BIC:                             6961.\n",
      "Df Model:                           1                                         \n",
      "Covariance Type:            nonrobust                                         \n",
      "==================================================================================\n",
      "                     coef    std err          t      P>|t|      [0.025      0.975]\n",
      "----------------------------------------------------------------------------------\n",
      "Intercept        714.1438    680.901      1.049      0.295    -624.596    2052.883\n",
      "education_year   151.0100     45.779      3.299      0.001      61.002     241.018\n",
      "==============================================================================\n",
      "Omnibus:                      129.434   Durbin-Watson:                   1.990\n",
      "Prob(Omnibus):                  0.000   Jarque-Bera (JB):              566.028\n",
      "Skew:                           1.390   Prob(JB):                    1.23e-123\n",
      "Kurtosis:                       8.223   Cond. No.                         107.\n",
      "==============================================================================\n",
      "\n",
      "Notes:\n",
      "[1] Standard Errors assume that the covariance matrix of the errors is correctly specified.\n"
     ]
    }
   ],
   "source": [
    "df = pd.read_csv(\"household_2020a.csv\")\n",
    "df['education_year'] = df['education'].apply(edu)\n",
    "df= df[['age','number','education_year','income']]\n",
    "df1 = df.loc[df['number'].isin([1])& (df['age'] >=30) & (df['age']<=39)]\n",
    "df2 = df1.copy()\n",
    "edu_model = ols(\"income~education_year\",data=df2).fit()\n",
    "print(edu_model.summary())"
   ]
  },
  {
   "cell_type": "markdown",
   "id": "568ce4bb",
   "metadata": {},
   "source": [
    "# RMSE 계산\n",
    "- 회귀계수의 표준오차를 구하는 데 필요한 RMSE(o)을 구합니다"
   ]
  },
  {
   "cell_type": "code",
   "execution_count": 6,
   "id": "1ba7e47f",
   "metadata": {},
   "outputs": [
    {
     "data": {
      "text/plain": [
       "sse    1879.21\n",
       "dtype: float64"
      ]
     },
     "execution_count": 6,
     "metadata": {},
     "output_type": "execute_result"
    }
   ],
   "source": [
    "intercept = edu_model.params[0]\n",
    "slope = edu_model.params[1]\n",
    "df2['fitted'] = intercept + df2['education_year'] * slope\n",
    "df2['sse'] = (df2['income']-df2['fitted'])**2\n",
    "sse = df2[['sse']]\n",
    "n = len(df2.index)\n",
    "k = 2\n",
    "sigma_hat = np.sqrt(np.sum(sse)/(n-k))  ## RMSE\n",
    "np.round(sigma_hat,2)\n"
   ]
  },
  {
   "cell_type": "markdown",
   "id": "a8a701fa",
   "metadata": {},
   "source": [
    "# 회귀계수의 표준 오차\n",
    "- RMSE와 다른 정보를 이용하여 절편과 기울기의 표준오차인 se(a), se(b)를 구합니다"
   ]
  },
  {
   "cell_type": "code",
   "execution_count": 7,
   "id": "0eb9d9b2",
   "metadata": {},
   "outputs": [
    {
     "data": {
      "text/html": [
       "<div>\n",
       "<style scoped>\n",
       "    .dataframe tbody tr th:only-of-type {\n",
       "        vertical-align: middle;\n",
       "    }\n",
       "\n",
       "    .dataframe tbody tr th {\n",
       "        vertical-align: top;\n",
       "    }\n",
       "\n",
       "    .dataframe thead th {\n",
       "        text-align: right;\n",
       "    }\n",
       "</style>\n",
       "<table border=\"1\" class=\"dataframe\">\n",
       "  <thead>\n",
       "    <tr style=\"text-align: right;\">\n",
       "      <th></th>\n",
       "      <th>age</th>\n",
       "      <th>number</th>\n",
       "      <th>education_year</th>\n",
       "      <th>income</th>\n",
       "      <th>fitted</th>\n",
       "      <th>sse</th>\n",
       "    </tr>\n",
       "  </thead>\n",
       "  <tbody>\n",
       "    <tr>\n",
       "      <th>19</th>\n",
       "      <td>35</td>\n",
       "      <td>1</td>\n",
       "      <td>14</td>\n",
       "      <td>1033</td>\n",
       "      <td>2828.283960</td>\n",
       "      <td>3.223044e+06</td>\n",
       "    </tr>\n",
       "    <tr>\n",
       "      <th>134</th>\n",
       "      <td>30</td>\n",
       "      <td>1</td>\n",
       "      <td>16</td>\n",
       "      <td>3032</td>\n",
       "      <td>3130.303985</td>\n",
       "      <td>9.663673e+03</td>\n",
       "    </tr>\n",
       "    <tr>\n",
       "      <th>157</th>\n",
       "      <td>30</td>\n",
       "      <td>1</td>\n",
       "      <td>16</td>\n",
       "      <td>1812</td>\n",
       "      <td>3130.303985</td>\n",
       "      <td>1.737925e+06</td>\n",
       "    </tr>\n",
       "    <tr>\n",
       "      <th>190</th>\n",
       "      <td>36</td>\n",
       "      <td>1</td>\n",
       "      <td>16</td>\n",
       "      <td>3959</td>\n",
       "      <td>3130.303985</td>\n",
       "      <td>6.867371e+05</td>\n",
       "    </tr>\n",
       "    <tr>\n",
       "      <th>191</th>\n",
       "      <td>31</td>\n",
       "      <td>1</td>\n",
       "      <td>16</td>\n",
       "      <td>1197</td>\n",
       "      <td>3130.303985</td>\n",
       "      <td>3.737664e+06</td>\n",
       "    </tr>\n",
       "    <tr>\n",
       "      <th>...</th>\n",
       "      <td>...</td>\n",
       "      <td>...</td>\n",
       "      <td>...</td>\n",
       "      <td>...</td>\n",
       "      <td>...</td>\n",
       "      <td>...</td>\n",
       "    </tr>\n",
       "    <tr>\n",
       "      <th>17525</th>\n",
       "      <td>37</td>\n",
       "      <td>1</td>\n",
       "      <td>12</td>\n",
       "      <td>3090</td>\n",
       "      <td>2526.263936</td>\n",
       "      <td>3.177984e+05</td>\n",
       "    </tr>\n",
       "    <tr>\n",
       "      <th>17544</th>\n",
       "      <td>30</td>\n",
       "      <td>1</td>\n",
       "      <td>14</td>\n",
       "      <td>1017</td>\n",
       "      <td>2828.283960</td>\n",
       "      <td>3.280750e+06</td>\n",
       "    </tr>\n",
       "    <tr>\n",
       "      <th>17599</th>\n",
       "      <td>37</td>\n",
       "      <td>1</td>\n",
       "      <td>16</td>\n",
       "      <td>4603</td>\n",
       "      <td>3130.303985</td>\n",
       "      <td>2.168834e+06</td>\n",
       "    </tr>\n",
       "    <tr>\n",
       "      <th>17696</th>\n",
       "      <td>37</td>\n",
       "      <td>1</td>\n",
       "      <td>14</td>\n",
       "      <td>1122</td>\n",
       "      <td>2828.283960</td>\n",
       "      <td>2.911405e+06</td>\n",
       "    </tr>\n",
       "    <tr>\n",
       "      <th>18014</th>\n",
       "      <td>34</td>\n",
       "      <td>1</td>\n",
       "      <td>16</td>\n",
       "      <td>4618</td>\n",
       "      <td>3130.303985</td>\n",
       "      <td>2.213239e+06</td>\n",
       "    </tr>\n",
       "  </tbody>\n",
       "</table>\n",
       "<p>388 rows × 6 columns</p>\n",
       "</div>"
      ],
      "text/plain": [
       "       age  number  education_year  income       fitted           sse\n",
       "19      35       1              14    1033  2828.283960  3.223044e+06\n",
       "134     30       1              16    3032  3130.303985  9.663673e+03\n",
       "157     30       1              16    1812  3130.303985  1.737925e+06\n",
       "190     36       1              16    3959  3130.303985  6.867371e+05\n",
       "191     31       1              16    1197  3130.303985  3.737664e+06\n",
       "...    ...     ...             ...     ...          ...           ...\n",
       "17525   37       1              12    3090  2526.263936  3.177984e+05\n",
       "17544   30       1              14    1017  2828.283960  3.280750e+06\n",
       "17599   37       1              16    4603  3130.303985  2.168834e+06\n",
       "17696   37       1              14    1122  2828.283960  2.911405e+06\n",
       "18014   34       1              16    4618  3130.303985  2.213239e+06\n",
       "\n",
       "[388 rows x 6 columns]"
      ]
     },
     "execution_count": 7,
     "metadata": {},
     "output_type": "execute_result"
    }
   ],
   "source": [
    "df2"
   ]
  },
  {
   "cell_type": "code",
   "execution_count": 16,
   "id": "478ecbac",
   "metadata": {},
   "outputs": [
    {
     "data": {
      "text/plain": [
       "sse    681.05\n",
       "dtype: float64"
      ]
     },
     "execution_count": 16,
     "metadata": {},
     "output_type": "execute_result"
    }
   ],
   "source": [
    "df2['x_bar'] = df2['education_year'].mean()\n",
    "df2['x_residual2'] = (df2['education_year']-df2['x_bar'])**2\n",
    "x_bar = df2['x_bar'].mean()\n",
    "x_bar = round(x_bar,2)\n",
    "x_residual2 = np.sum(df2['x_residual2'])\n",
    "n = len(df2.index)\n",
    "se_a = np.sqrt(1/n + x_bar**2/x_residual2)*sigma_hat\n",
    "se_b = sigma_hat / np.sqrt(x_residual2)\n",
    "np.round(se_a,2)\n"
   ]
  },
  {
   "cell_type": "code",
   "execution_count": 17,
   "id": "752fbf9b",
   "metadata": {},
   "outputs": [
    {
     "data": {
      "text/plain": [
       "sse    45.78\n",
       "dtype: float64"
      ]
     },
     "execution_count": 17,
     "metadata": {},
     "output_type": "execute_result"
    }
   ],
   "source": [
    "np.round(se_b,2)"
   ]
  },
  {
   "cell_type": "markdown",
   "id": "fdc226b6",
   "metadata": {},
   "source": [
    "# 회귀계수의 신뢰구간\n",
    "- a의 추정계수에 대한 95% 신뢰구간은 a+-2se(a)이며, B의 추정계수에 대한 95% 신뢰구간은 B+-2se(b)입니다"
   ]
  },
  {
   "cell_type": "code",
   "execution_count": 19,
   "id": "9aae6c6f",
   "metadata": {},
   "outputs": [
    {
     "data": {
      "text/plain": [
       "sse   -647.95\n",
       "dtype: float64"
      ]
     },
     "execution_count": 19,
     "metadata": {},
     "output_type": "execute_result"
    }
   ],
   "source": [
    "# a에 대한 신뢰구간\n",
    "lb_a = intercept - 2 * se_a # lower bound\n",
    "hb_a = intercept + 2 * se_a # higher bound\n",
    "np.round(lb_a,2)\n"
   ]
  },
  {
   "cell_type": "code",
   "execution_count": 20,
   "id": "63f97014",
   "metadata": {},
   "outputs": [
    {
     "data": {
      "text/plain": [
       "sse    2076.24\n",
       "dtype: float64"
      ]
     },
     "execution_count": 20,
     "metadata": {},
     "output_type": "execute_result"
    }
   ],
   "source": [
    "np.round(hb_a,2)"
   ]
  },
  {
   "cell_type": "code",
   "execution_count": 23,
   "id": "c81bd8d5",
   "metadata": {},
   "outputs": [
    {
     "data": {
      "text/plain": [
       "sse    59.45\n",
       "dtype: float64"
      ]
     },
     "execution_count": 23,
     "metadata": {},
     "output_type": "execute_result"
    }
   ],
   "source": [
    "# B에 대한 신뢰구간\n",
    "lb_b = slope - 2 * se_b\n",
    "hb_b = slope + 2 * se_b\n",
    "np.round(lb_b,2)\n"
   ]
  },
  {
   "cell_type": "code",
   "execution_count": 24,
   "id": "24dca358",
   "metadata": {},
   "outputs": [
    {
     "data": {
      "text/plain": [
       "sse    242.57\n",
       "dtype: float64"
      ]
     },
     "execution_count": 24,
     "metadata": {},
     "output_type": "execute_result"
    }
   ],
   "source": [
    "np.round(hb_b,2)"
   ]
  },
  {
   "cell_type": "markdown",
   "id": "890fb0b0",
   "metadata": {},
   "source": [
    "# 절편과 기울기에 대한 유의성 검증\n",
    "- 단순회귀분석 모형의 절편과 기울기에 대한 귀무가설 B1 = B0 = 0에 대해 t-검정을 실시합니다"
   ]
  },
  {
   "cell_type": "code",
   "execution_count": 27,
   "id": "7823b180",
   "metadata": {},
   "outputs": [
    {
     "data": {
      "text/plain": [
       "sse    1.049\n",
       "dtype: float64"
      ]
     },
     "execution_count": 27,
     "metadata": {},
     "output_type": "execute_result"
    }
   ],
   "source": [
    "# 절편에 대한 t검정\n",
    "t_a = (intercept-0)/se_a\n",
    "t_a.round(3)"
   ]
  },
  {
   "cell_type": "code",
   "execution_count": 28,
   "id": "f0fd5020",
   "metadata": {},
   "outputs": [
    {
     "data": {
      "text/plain": [
       "sse    3.2986\n",
       "dtype: float64"
      ]
     },
     "execution_count": 28,
     "metadata": {},
     "output_type": "execute_result"
    }
   ],
   "source": [
    "# 기울기에 대한 t검정\n",
    "t_b = (slope-0)/se_b\n",
    "t_b.round(4)"
   ]
  },
  {
   "cell_type": "markdown",
   "id": "c3cb39cd",
   "metadata": {},
   "source": [
    "# p값\n",
    "- 절편과 기울기에 대한 귀무가설에 대한 가설에 대해 t값에 해당하는 p값을 구한다\n"
   ]
  },
  {
   "cell_type": "code",
   "execution_count": 29,
   "id": "7398f475",
   "metadata": {},
   "outputs": [
    {
     "data": {
      "text/plain": [
       "array([0.295])"
      ]
     },
     "execution_count": 29,
     "metadata": {},
     "output_type": "execute_result"
    }
   ],
   "source": [
    "from scipy import stats\n",
    "df = len(df2.index)-2\n",
    "p_a = (1 - stats.t.cdf(t_a,df=df))*2   # 대립가설을 a 는 0이 아니다로 둘 경우 p값\n",
    "p_b = (1-stats.t.cdf(t_b,df=df))*2   # 대립가설을 B 는 0이 아니다로 둘 경우 p값\n",
    "p_a.round(4)"
   ]
  },
  {
   "cell_type": "code",
   "execution_count": 30,
   "id": "8b325e85",
   "metadata": {},
   "outputs": [
    {
     "data": {
      "text/plain": [
       "array([0.0011])"
      ]
     },
     "execution_count": 30,
     "metadata": {},
     "output_type": "execute_result"
    }
   ],
   "source": [
    "p_b.round(4)"
   ]
  },
  {
   "cell_type": "markdown",
   "id": "a40e752a",
   "metadata": {},
   "source": [
    "# 대학 졸업 30대 1인 가구의 소득 예측\n",
    "## 예측 추정치"
   ]
  },
  {
   "cell_type": "markdown",
   "id": "c41988ac",
   "metadata": {},
   "source": [
    "- 회귀모형을 통해 구한 절편과 기울기를 이용하여 대학교육 연수에 해당하는 16년 교육을 받은 가구주의 소득을 추정한다."
   ]
  },
  {
   "cell_type": "code",
   "execution_count": 35,
   "id": "57ce9bd4",
   "metadata": {},
   "outputs": [],
   "source": [
    "def edu(x):\n",
    "    if x == 2:\n",
    "        return 6\n",
    "    elif x == 3:\n",
    "        return 9\n",
    "    elif x == 4:\n",
    "        return 12\n",
    "    elif x == 5:\n",
    "        return 14\n",
    "    elif x == 6:\n",
    "        return 16\n",
    "    elif x == 7:\n",
    "        return 18\n",
    "    elif x == 8:\n",
    "        return 21\n",
    "    else:\n",
    "        return 0\n",
    "    "
   ]
  },
  {
   "cell_type": "code",
   "execution_count": 36,
   "id": "ff5a4897",
   "metadata": {},
   "outputs": [
    {
     "name": "stdout",
     "output_type": "stream",
     "text": [
      "                            OLS Regression Results                            \n",
      "==============================================================================\n",
      "Dep. Variable:                 income   R-squared:                       0.027\n",
      "Model:                            OLS   Adj. R-squared:                  0.025\n",
      "Method:                 Least Squares   F-statistic:                     10.88\n",
      "Date:                Mon, 10 Apr 2023   Prob (F-statistic):            0.00106\n",
      "Time:                        15:33:36   Log-Likelihood:                -3474.5\n",
      "No. Observations:                 388   AIC:                             6953.\n",
      "Df Residuals:                     386   BIC:                             6961.\n",
      "Df Model:                           1                                         \n",
      "Covariance Type:            nonrobust                                         \n",
      "==================================================================================\n",
      "                     coef    std err          t      P>|t|      [0.025      0.975]\n",
      "----------------------------------------------------------------------------------\n",
      "Intercept        714.1438    680.901      1.049      0.295    -624.596    2052.883\n",
      "education_year   151.0100     45.779      3.299      0.001      61.002     241.018\n",
      "==============================================================================\n",
      "Omnibus:                      129.434   Durbin-Watson:                   1.990\n",
      "Prob(Omnibus):                  0.000   Jarque-Bera (JB):              566.028\n",
      "Skew:                           1.390   Prob(JB):                    1.23e-123\n",
      "Kurtosis:                       8.223   Cond. No.                         107.\n",
      "==============================================================================\n",
      "\n",
      "Notes:\n",
      "[1] Standard Errors assume that the covariance matrix of the errors is correctly specified.\n"
     ]
    }
   ],
   "source": [
    "df = pd.read_csv(\"household_2020a.csv\")\n",
    "df['education_year'] = df['education'].apply(edu)\n",
    "df= df[['age','number','education_year','income']]\n",
    "df1 = df.loc[df['number'].isin([1])& (df['age'] >=30) & (df['age']<=39)]\n",
    "df2 = df1.copy()\n",
    "edu_model = ols(\"income~education_year\",data=df2).fit()\n",
    "print(edu_model.summary())"
   ]
  },
  {
   "cell_type": "code",
   "execution_count": 37,
   "id": "c4f6ec6f",
   "metadata": {},
   "outputs": [],
   "source": [
    "intercept = edu_model.params[0]\n",
    "coef1 = edu_model.params[1]"
   ]
  },
  {
   "cell_type": "code",
   "execution_count": 39,
   "id": "d90d29b2",
   "metadata": {},
   "outputs": [
    {
     "data": {
      "text/plain": [
       "3130.3"
      ]
     },
     "execution_count": 39,
     "metadata": {},
     "output_type": "execute_result"
    }
   ],
   "source": [
    "y_16 = intercept + coef1 * 16\n",
    "y_16.round(1)"
   ]
  },
  {
   "cell_type": "markdown",
   "id": "51389382",
   "metadata": {},
   "source": [
    "## 평균값과 개별값에 대한 표준오차\n",
    "- 대학졸업자의 평균적인 소득의 표준오차는 "
   ]
  },
  {
   "cell_type": "code",
   "execution_count": 40,
   "id": "54a1cb64",
   "metadata": {},
   "outputs": [],
   "source": [
    "x_0 = 16  # 대학졸업에 해당하는 교육연수\n",
    "\n",
    "df2 = df1.copy()\n",
    "df2['fitted'] = intercept + df2['education_year']*coef1\n",
    "df2['sse'] = (df2['income']-df2['fitted'])**2\n",
    "df3 = df2['sse']\n",
    "n = len(df3.index)\n",
    "df4 = df3.sum(axis=0)\n",
    "sigma_hat = np.sqrt(df4/(n-2)) # RMSE\n",
    "\n",
    "\n"
   ]
  },
  {
   "cell_type": "code",
   "execution_count": 43,
   "id": "ca878eff",
   "metadata": {},
   "outputs": [
    {
     "data": {
      "text/plain": [
       "111.8"
      ]
     },
     "execution_count": 43,
     "metadata": {},
     "output_type": "execute_result"
    }
   ],
   "source": [
    "df2['x_bar'] = df2['education_year'].mean()\n",
    "x_bar = df2['education_year'].mean()\n",
    "df2['x_residual2'] = (df2['education_year']-df2['x_bar'])**2\n",
    "df3 = df2['x_residual2']\n",
    "df4 = df3.sum(axis=0)\n",
    "x_residual2= df4\n",
    "\n",
    "# 30대 1인 가구의 대학졸업자의 소득의 평균예측치의 표준오차\n",
    "se1_16 = np.sqrt(1/n+(x_0 - x_bar)**2/x_residual2) * sigma_hat\n",
    "\n",
    "np.round(se1_16,2)"
   ]
  },
  {
   "cell_type": "markdown",
   "id": "77b9c6c8",
   "metadata": {},
   "source": [
    "- 30대 1인 가구의 대학졸업자의 평균적인 소득의 95% 신뢰구간은 =>"
   ]
  },
  {
   "cell_type": "code",
   "execution_count": 44,
   "id": "6df0ea04",
   "metadata": {},
   "outputs": [
    {
     "data": {
      "text/plain": [
       "2906.71"
      ]
     },
     "execution_count": 44,
     "metadata": {},
     "output_type": "execute_result"
    }
   ],
   "source": [
    "lb = y_16 - 2 * se1_16  # lower bound\n",
    "hb = y_16 + 2 * se1_16 # higher bound\n",
    "lb.round(2)"
   ]
  },
  {
   "cell_type": "code",
   "execution_count": 45,
   "id": "ad320ac0",
   "metadata": {},
   "outputs": [
    {
     "data": {
      "text/plain": [
       "3353.9"
      ]
     },
     "execution_count": 45,
     "metadata": {},
     "output_type": "execute_result"
    }
   ],
   "source": [
    "hb.round(2)"
   ]
  },
  {
   "cell_type": "markdown",
   "id": "921d365e",
   "metadata": {},
   "source": [
    "- 30대 1인 가구 중 특정 대학 졸업자 가구의 소득의 표준오차를 다음과 같이 예측한다."
   ]
  },
  {
   "cell_type": "code",
   "execution_count": 47,
   "id": "92ea0160",
   "metadata": {},
   "outputs": [],
   "source": [
    "# 30대1인 가구인 대학졸업자의 소득의 평균예측치의 표준오차\n",
    "se2_16 = np.sqrt(1+1/n + (x_0 -x_bar)**2/x_residual2) * sigma_hat\n"
   ]
  },
  {
   "cell_type": "code",
   "execution_count": 49,
   "id": "47699839",
   "metadata": {},
   "outputs": [
    {
     "data": {
      "text/plain": [
       "-634.76"
      ]
     },
     "execution_count": 49,
     "metadata": {},
     "output_type": "execute_result"
    }
   ],
   "source": [
    "lb2 = y_16 - 2*se2_16\n",
    "hb2 = y_16 + 2*se2_16\n",
    "lb2.round(2)"
   ]
  },
  {
   "cell_type": "code",
   "execution_count": 50,
   "id": "cf836cf2",
   "metadata": {},
   "outputs": [
    {
     "data": {
      "text/plain": [
       "6895.37"
      ]
     },
     "execution_count": 50,
     "metadata": {},
     "output_type": "execute_result"
    }
   ],
   "source": [
    "hb2.round(2)"
   ]
  },
  {
   "cell_type": "code",
   "execution_count": null,
   "id": "e8507580",
   "metadata": {},
   "outputs": [],
   "source": []
  }
 ],
 "metadata": {
  "kernelspec": {
   "display_name": "Python 3 (ipykernel)",
   "language": "python",
   "name": "python3"
  },
  "language_info": {
   "codemirror_mode": {
    "name": "ipython",
    "version": 3
   },
   "file_extension": ".py",
   "mimetype": "text/x-python",
   "name": "python",
   "nbconvert_exporter": "python",
   "pygments_lexer": "ipython3",
   "version": "3.9.7"
  }
 },
 "nbformat": 4,
 "nbformat_minor": 5
}
